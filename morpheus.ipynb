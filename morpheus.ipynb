{
 "cells": [
  {
   "cell_type": "code",
   "execution_count": null,
   "metadata": {
    "ExecuteTime": {
     "end_time": "2019-06-18T07:54:44.746199Z",
     "start_time": "2019-06-18T07:54:42.554239Z"
    }
   },
   "outputs": [],
   "source": [
    "import shift_detector\n",
    "from shift_detector.detector import Detector\n",
    "from shift_detector.checks.simple_check import SimpleCheck\n",
    "from shift_detector.checks.distinction_check import DistinctionCheck\n",
    "from shift_detector.checks.sorensen_dice_check import SorensenDiceCheck\n",
    "from shift_detector.checks.conditional_probabilities_check import ConditionalProbabilitiesCheck\n",
    "from shift_detector.checks.embedding_distance_check import EmbeddingDistanceCheck\n",
    "from shift_detector.checks.word_prediction_check import WordPredictionCheck\n",
    "from shift_detector.checks.statistical_checks.numerical_statistical_check import NumericalStatisticalCheck\n",
    "from shift_detector.checks.statistical_checks.categorical_statistical_check import CategoricalStatisticalCheck\n",
    "from shift_detector.checks.statistical_checks.text_metadata_statistical_check import TextMetadataStatisticalCheck\n",
    "from shift_detector.checks.lda_check import LdaCheck"
   ]
  },
  {
   "cell_type": "code",
   "execution_count": null,
   "metadata": {
    "ExecuteTime": {
     "end_time": "2019-06-18T07:54:44.768296Z",
     "start_time": "2019-06-18T07:54:44.747896Z"
    },
    "scrolled": true
   },
   "outputs": [],
   "source": [
    "import pandas as pd\n",
    "'''\n",
    "df1 = './../train_ascii.csv'\n",
    "df1 = pd.read_csv(df1, delimiter=';').sample(100)\n",
    "df2 = './../audits_ascii.csv'\n",
    "df2 = pd.read_csv(df2, delimiter=';')\n",
    "'''\n",
    "\n",
    "df = pd.read_csv('./data/pokedex.csv')\n",
    "df1 = df.head(300)\n",
    "df2 = df.tail(721-300)\n",
    "'''\n",
    "sales1 = {'brand': [\"Jones LLC\", \"Alpha Co\", \"Blue Inc\", \"Blue Inc\", \"Alpha Co\",\n",
    "                   \"Jones LLC\", \"Alpha Co\", \"Blue Inc\", \"Blue Inc\", \"Alpha Co\",\n",
    "                   \"Jones LLC\"] * 10,\n",
    "         'payment': [150., 200., 50., 10., 5., 150., 200., 50., 10., 5., 1.] * 10,\n",
    "         'payment2': [15., 2., 5., 0., 5., 3., 200., 50., 10., 5., 1.] * 10,\n",
    "         'description': [\"A\", \"B\", \"C\", \"D\", \"E\", \"F\", \"G\", \"H\", \"I\", \"J\", \"K\"] * 10}\n",
    "\n",
    "sales2 = {'brand': [\"Blue Inc\", \"Alpha Co\",\n",
    "                   \"Jones LLC\", \"Alpha Co\", \"Blue Inc\", \"Blue Inc\", \"Alpha Co\",\n",
    "                   \"Jones LLC\"] * 10,\n",
    "         'payment': [10, 5, 150, 200, 50, 10, 5, 1] * 10,\n",
    "         'payment2': [15, 2, 5, 0, 5, 3, 200, 50] * 10,\n",
    "         'description': [\"D\", \"E\", \"F\", \"G\", \"H\", \"I\", \"J\", \"K\"] * 10}\n",
    "\n",
    "df1 = pd.DataFrame.from_dict(sales1)\n",
    "df2 = pd.DataFrame.from_dict(sales2)\n",
    "'''"
   ]
  },
  {
   "cell_type": "code",
   "execution_count": null,
   "metadata": {},
   "outputs": [],
   "source": [
    "df1"
   ]
  },
  {
   "cell_type": "code",
   "execution_count": null,
   "metadata": {},
   "outputs": [],
   "source": [
    "df2"
   ]
  },
  {
   "cell_type": "code",
   "execution_count": null,
   "metadata": {},
   "outputs": [],
   "source": [
    "from shift_detector.utils.column_management import ColumnType\n",
    "custom_column_types = {\n",
    "    'Legendary': ColumnType.categorical,\n",
    "    'Type 1': ColumnType.categorical,\n",
    "    'Type 2': ColumnType.categorical,\n",
    "    'Generation': ColumnType.categorical\n",
    "}\n",
    "detector = Detector(df1, df2, **custom_column_types)"
   ]
  },
  {
   "cell_type": "code",
   "execution_count": null,
   "metadata": {
    "ExecuteTime": {
     "end_time": "2019-06-18T07:54:44.773157Z",
     "start_time": "2019-06-18T07:54:44.769888Z"
    }
   },
   "outputs": [],
   "source": [
    "sc = SimpleCheck()\n",
    "dc = DistinctionCheck(num_epochs=10, relative_threshold=0.2)\n",
    "cp = ConditionalProbabilitiesCheck(min_support=0.01, min_confidence=0.01, rule_limit=10,\n",
    "                                               min_delta_supports=0.01, min_delta_confidences=0.01)\n",
    "sdc = SorensenDiceCheck(n=1)\n",
    "edc = EmbeddingDistanceCheck()\n",
    "# wpc = WordPredictionCheck()\n",
    "nsc = NumericalStatisticalCheck()\n",
    "csc = CategoricalStatisticalCheck()\n",
    "tmc = TextMetadataStatisticalCheck()\n",
    "# lc = LdaCheck()"
   ]
  },
  {
   "cell_type": "code",
   "execution_count": null,
   "metadata": {
    "ExecuteTime": {
     "end_time": "2019-06-18T07:54:46.940760Z",
     "start_time": "2019-06-18T07:54:44.775036Z"
    },
    "scrolled": true
   },
   "outputs": [],
   "source": [
    "import logging\n",
    "\n",
    "detector.run(sc, sdc, edc, nsc, csc, tmc)"
   ]
  },
  {
   "cell_type": "code",
   "execution_count": null,
   "metadata": {
    "ExecuteTime": {
     "end_time": "2019-06-18T07:54:47.691249Z",
     "start_time": "2019-06-18T07:54:46.942392Z"
    },
    "scrolled": false
   },
   "outputs": [],
   "source": [
    "detector.evaluate()"
   ]
  }
 ],
 "metadata": {
  "kernelspec": {
   "display_name": "Python 3",
   "language": "python",
   "name": "python3"
  },
  "language_info": {
   "codemirror_mode": {
    "name": "ipython",
    "version": 3
   },
   "file_extension": ".py",
   "mimetype": "text/x-python",
   "name": "python",
   "nbconvert_exporter": "python",
   "pygments_lexer": "ipython3",
   "version": "3.7.3"
  },
  "varInspector": {
   "cols": {
    "lenName": 16,
    "lenType": 16,
    "lenVar": 40
   },
   "kernels_config": {
    "python": {
     "delete_cmd_postfix": "",
     "delete_cmd_prefix": "del ",
     "library": "var_list.py",
     "varRefreshCmd": "print(var_dic_list())"
    },
    "r": {
     "delete_cmd_postfix": ") ",
     "delete_cmd_prefix": "rm(",
     "library": "var_list.r",
     "varRefreshCmd": "cat(var_dic_list()) "
    }
   },
   "types_to_exclude": [
    "module",
    "function",
    "builtin_function_or_method",
    "instance",
    "_Feature"
   ],
   "window_display": false
  }
 },
 "nbformat": 4,
 "nbformat_minor": 2
}