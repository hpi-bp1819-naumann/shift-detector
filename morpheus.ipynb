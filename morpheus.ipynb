{
 "cells": [
  {
   "cell_type": "code",
   "execution_count": 1,
   "metadata": {
    "ExecuteTime": {
     "end_time": "2019-07-04T07:49:46.155587Z",
     "start_time": "2019-07-04T07:49:43.556208Z"
    }
   },
   "outputs": [
    {
     "name": "stderr",
     "output_type": "stream",
     "text": [
      "2019-07-04 09:49:45,044 [INFO]  'pattern' package not found; tag filters are not available for English\n",
      "Using TensorFlow backend.\n",
      "WARNING: Logging before flag parsing goes to stderr.\n",
      "W0704 09:49:45.888351 140736180102016 deprecation_wrapper.py:119] From /Users/pzimme/Documents/projects/deequ/shift-detector/shift_detector/precalculations/word_prediction_precalculation.py:12: The name tf.set_random_seed is deprecated. Please use tf.compat.v1.set_random_seed instead.\n",
      "\n"
     ]
    }
   ],
   "source": [
    "import shift_detector\n",
    "from shift_detector.detector import Detector\n",
    "from shift_detector.checks.dq_metrics_check import DQMetricsCheck\n",
    "from shift_detector.checks.distinction_check import DistinctionCheck\n",
    "from shift_detector.checks.sorensen_dice_check import SorensenDiceCheck\n",
    "from shift_detector.checks.conditional_probabilities_check import ConditionalProbabilitiesCheck\n",
    "from shift_detector.checks.embedding_distance_check import EmbeddingDistanceCheck\n",
    "from shift_detector.checks.word_prediction_check import WordPredictionCheck\n",
    "from shift_detector.checks.statistical_checks.numerical_statistical_check import NumericalStatisticalCheck\n",
    "from shift_detector.checks.statistical_checks.categorical_statistical_check import CategoricalStatisticalCheck\n",
    "from shift_detector.checks.statistical_checks.text_metadata_statistical_check import TextMetadataStatisticalCheck\n",
    "from shift_detector.checks.lda_check import LdaCheck"
   ]
  },
  {
   "cell_type": "code",
   "execution_count": 2,
   "metadata": {
    "ExecuteTime": {
     "end_time": "2019-07-04T07:49:46.170464Z",
     "start_time": "2019-07-04T07:49:46.157103Z"
    },
    "scrolled": true
   },
   "outputs": [],
   "source": [
    "import pandas as pd\n",
    "df = pd.read_csv('./data/pokedex.csv')\n",
    "\n",
    "# double df\n",
    "df = pd.concat([df, df], axis=1)\n",
    "new_cols = []\n",
    "for i in range(len(df.columns)):\n",
    "    new_cols.append(df.columns[i] + '_' + str(i))\n",
    "df.columns = new_cols\n",
    "\n",
    "df1 = df.head(300)\n",
    "df2 = df.tail(721-300)"
   ]
  },
  {
   "cell_type": "code",
   "execution_count": 3,
   "metadata": {
    "ExecuteTime": {
     "end_time": "2019-07-04T07:49:46.174009Z",
     "start_time": "2019-07-04T07:49:46.172021Z"
    },
    "scrolled": true
   },
   "outputs": [],
   "source": [
    "# df1.loc[df['#'] > 49, '#'] = None\n",
    "# df1"
   ]
  },
  {
   "cell_type": "code",
   "execution_count": null,
   "metadata": {
    "ExecuteTime": {
     "end_time": "2019-06-25T15:02:48.250087Z",
     "start_time": "2019-06-25T15:02:48.221412Z"
    },
    "scrolled": false
   },
   "outputs": [],
   "source": []
  },
  {
   "cell_type": "code",
   "execution_count": 4,
   "metadata": {
    "ExecuteTime": {
     "end_time": "2019-07-04T07:49:46.223033Z",
     "start_time": "2019-07-04T07:49:46.175852Z"
    }
   },
   "outputs": [
    {
     "name": "stdout",
     "output_type": "stream",
     "text": [
      "Numerical columns: Sp. Atk_22, Generation_11, Generation_25, HP_5, Speed_24, Total_18, Attack_6, HP_19, Defense_21, Total_4, Defense_7, Speed_10, Attack_20, #_0, Sp. Def_9, Sp. Def_23, #_14, Sp. Atk_8\n",
      "Categorical columns: Legendary_26, Legendary_12\n",
      "Text columns: Type 2_3, Entry_27, Name_1, Type 2_17, Type 1_2, Type 1_16, Name_15, Entry_13\n",
      "Used columns: #_0, Name_1, Type 1_2, Type 2_3, Total_4, HP_5, Attack_6, Defense_7, Sp. Atk_8, Sp. Def_9, Speed_10, Generation_11, Legendary_12, Entry_13, #_14, Name_15, Type 1_16, Type 2_17, Total_18, HP_19, Attack_20, Defense_21, Sp. Atk_22, Sp. Def_23, Speed_24, Generation_25, Legendary_26, Entry_27\n"
     ]
    }
   ],
   "source": [
    "from shift_detector.utils.column_management import ColumnType\n",
    "custom_column_types = {\n",
    "#     'Legendary': ColumnType.categorical,\n",
    "    'Type 1': ColumnType.categorical,\n",
    "    'Type 2': ColumnType.categorical,\n",
    "    'Generation': ColumnType.categorical,\n",
    "}\n",
    "detector = Detector(df1, df2, **custom_column_types)"
   ]
  },
  {
   "cell_type": "code",
   "execution_count": 5,
   "metadata": {
    "ExecuteTime": {
     "end_time": "2019-07-04T07:49:46.227586Z",
     "start_time": "2019-07-04T07:49:46.224478Z"
    }
   },
   "outputs": [],
   "source": [
    "dc = DistinctionCheck(num_epochs=10, relative_threshold=0.2)\n",
    "cp = ConditionalProbabilitiesCheck(min_support=0.01, min_confidence=0.01, rule_limit=10,\n",
    "                                   min_delta_supports=0.01, min_delta_confidences=0.01)\n",
    "sdc = SorensenDiceCheck(n=1)\n",
    "edc = EmbeddingDistanceCheck()\n",
    "nsc = NumericalStatisticalCheck()\n",
    "csc = CategoricalStatisticalCheck()\n",
    "tmc = TextMetadataStatisticalCheck()\n",
    "dqm = DQMetricsCheck()"
   ]
  },
  {
   "cell_type": "code",
   "execution_count": 6,
   "metadata": {
    "ExecuteTime": {
     "end_time": "2019-07-04T07:49:46.805199Z",
     "start_time": "2019-07-04T07:49:46.228833Z"
    },
    "scrolled": true
   },
   "outputs": [
    {
     "name": "stdout",
     "output_type": "stream",
     "text": [
      "Executing DQMetricsCheck\n",
      "- Executing DQMetricsPrecalculation\n",
      "- Executing LowCardinalityPrecalculation\n"
     ]
    }
   ],
   "source": [
    "detector.run(dqm)"
   ]
  },
  {
   "cell_type": "code",
   "execution_count": 7,
   "metadata": {
    "ExecuteTime": {
     "end_time": "2019-07-04T07:49:48.925746Z",
     "start_time": "2019-07-04T07:49:46.806823Z"
    },
    "scrolled": false
   },
   "outputs": [
    {
     "data": {
      "text/markdown": [
       "# OVERVIEW"
      ],
      "text/plain": [
       "<IPython.core.display.Markdown object>"
      ]
     },
     "metadata": {},
     "output_type": "display_data"
    },
    {
     "data": {
      "text/plain": [
       "'Executed 1 checks'"
      ]
     },
     "metadata": {},
     "output_type": "display_data"
    },
    {
     "data": {
      "text/html": [
       "<div>\n",
       "<style scoped>\n",
       "    .dataframe tbody tr th:only-of-type {\n",
       "        vertical-align: middle;\n",
       "    }\n",
       "\n",
       "    .dataframe tbody tr th {\n",
       "        vertical-align: top;\n",
       "    }\n",
       "\n",
       "    .dataframe thead th {\n",
       "        text-align: right;\n",
       "    }\n",
       "</style>\n",
       "<table border=\"1\" class=\"dataframe\">\n",
       "  <thead>\n",
       "    <tr style=\"text-align: right;\">\n",
       "      <th></th>\n",
       "      <th>Column</th>\n",
       "      <th># Shifts detected</th>\n",
       "      <th># Checks Executed</th>\n",
       "    </tr>\n",
       "  </thead>\n",
       "  <tbody>\n",
       "    <tr>\n",
       "      <th>0</th>\n",
       "      <td>Generation_25</td>\n",
       "      <td>2</td>\n",
       "      <td>2</td>\n",
       "    </tr>\n",
       "    <tr>\n",
       "      <th>1</th>\n",
       "      <td>Generation_11</td>\n",
       "      <td>2</td>\n",
       "      <td>2</td>\n",
       "    </tr>\n",
       "    <tr>\n",
       "      <th>2</th>\n",
       "      <td>Sp. Atk_22</td>\n",
       "      <td>1</td>\n",
       "      <td>1</td>\n",
       "    </tr>\n",
       "    <tr>\n",
       "      <th>3</th>\n",
       "      <td>HP_5</td>\n",
       "      <td>1</td>\n",
       "      <td>1</td>\n",
       "    </tr>\n",
       "    <tr>\n",
       "      <th>4</th>\n",
       "      <td>#_14</td>\n",
       "      <td>1</td>\n",
       "      <td>1</td>\n",
       "    </tr>\n",
       "    <tr>\n",
       "      <th>5</th>\n",
       "      <td>#_0</td>\n",
       "      <td>1</td>\n",
       "      <td>1</td>\n",
       "    </tr>\n",
       "    <tr>\n",
       "      <th>6</th>\n",
       "      <td>HP_19</td>\n",
       "      <td>1</td>\n",
       "      <td>1</td>\n",
       "    </tr>\n",
       "    <tr>\n",
       "      <th>7</th>\n",
       "      <td>Sp. Atk_8</td>\n",
       "      <td>1</td>\n",
       "      <td>1</td>\n",
       "    </tr>\n",
       "    <tr>\n",
       "      <th>8</th>\n",
       "      <td>Legendary_12</td>\n",
       "      <td>1</td>\n",
       "      <td>2</td>\n",
       "    </tr>\n",
       "    <tr>\n",
       "      <th>9</th>\n",
       "      <td>Legendary_26</td>\n",
       "      <td>1</td>\n",
       "      <td>2</td>\n",
       "    </tr>\n",
       "    <tr>\n",
       "      <th>10</th>\n",
       "      <td>Total_18</td>\n",
       "      <td>0</td>\n",
       "      <td>1</td>\n",
       "    </tr>\n",
       "    <tr>\n",
       "      <th>11</th>\n",
       "      <td>Attack_6</td>\n",
       "      <td>0</td>\n",
       "      <td>1</td>\n",
       "    </tr>\n",
       "    <tr>\n",
       "      <th>12</th>\n",
       "      <td>Sp. Def_9</td>\n",
       "      <td>0</td>\n",
       "      <td>1</td>\n",
       "    </tr>\n",
       "    <tr>\n",
       "      <th>13</th>\n",
       "      <td>Sp. Def_23</td>\n",
       "      <td>0</td>\n",
       "      <td>1</td>\n",
       "    </tr>\n",
       "    <tr>\n",
       "      <th>14</th>\n",
       "      <td>Speed_24</td>\n",
       "      <td>0</td>\n",
       "      <td>1</td>\n",
       "    </tr>\n",
       "    <tr>\n",
       "      <th>15</th>\n",
       "      <td>Attack_20</td>\n",
       "      <td>0</td>\n",
       "      <td>1</td>\n",
       "    </tr>\n",
       "    <tr>\n",
       "      <th>16</th>\n",
       "      <td>Defense_21</td>\n",
       "      <td>0</td>\n",
       "      <td>1</td>\n",
       "    </tr>\n",
       "    <tr>\n",
       "      <th>17</th>\n",
       "      <td>Defense_7</td>\n",
       "      <td>0</td>\n",
       "      <td>1</td>\n",
       "    </tr>\n",
       "    <tr>\n",
       "      <th>18</th>\n",
       "      <td>Speed_10</td>\n",
       "      <td>0</td>\n",
       "      <td>1</td>\n",
       "    </tr>\n",
       "    <tr>\n",
       "      <th>19</th>\n",
       "      <td>Total_4</td>\n",
       "      <td>0</td>\n",
       "      <td>1</td>\n",
       "    </tr>\n",
       "  </tbody>\n",
       "</table>\n",
       "</div>"
      ],
      "text/plain": [
       "           Column  # Shifts detected  # Checks Executed\n",
       "0   Generation_25                  2                  2\n",
       "1   Generation_11                  2                  2\n",
       "2      Sp. Atk_22                  1                  1\n",
       "3            HP_5                  1                  1\n",
       "4            #_14                  1                  1\n",
       "5             #_0                  1                  1\n",
       "6           HP_19                  1                  1\n",
       "7       Sp. Atk_8                  1                  1\n",
       "8    Legendary_12                  1                  2\n",
       "9    Legendary_26                  1                  2\n",
       "10       Total_18                  0                  1\n",
       "11       Attack_6                  0                  1\n",
       "12      Sp. Def_9                  0                  1\n",
       "13     Sp. Def_23                  0                  1\n",
       "14       Speed_24                  0                  1\n",
       "15      Attack_20                  0                  1\n",
       "16     Defense_21                  0                  1\n",
       "17      Defense_7                  0                  1\n",
       "18       Speed_10                  0                  1\n",
       "19        Total_4                  0                  1"
      ]
     },
     "metadata": {},
     "output_type": "display_data"
    },
    {
     "data": {
      "text/markdown": [
       "# DETAILS"
      ],
      "text/plain": [
       "<IPython.core.display.Markdown object>"
      ]
     },
     "metadata": {},
     "output_type": "display_data"
    },
    {
     "data": {
      "text/markdown": [
       "## DQ Metrics Check"
      ],
      "text/plain": [
       "<IPython.core.display.Markdown object>"
      ]
     },
     "metadata": {},
     "output_type": "display_data"
    },
    {
     "name": "stdout",
     "output_type": "stream",
     "text": [
      "Examined Columns: ['Sp. Atk_22', 'HP_5', 'Total_18', 'Attack_6', 'Legendary_12', 'Sp. Def_9', 'Generation_25', 'Sp. Def_23', '#_14', 'Speed_24', 'Legendary_26', '#_0', 'Attack_20', 'Generation_11', 'HP_19', 'Defense_21', 'Defense_7', 'Sp. Atk_8', 'Speed_10', 'Total_4', 'Generation_11', 'Generation_25', 'Legendary_26', 'Legendary_12']\n",
      "Shifted Columns: ['Generation_11', 'Sp. Atk_22', 'HP_5', 'HP_19', '#_0', 'Generation_25', '#_14', 'Sp. Atk_8', 'Generation_11', 'Generation_25', 'Legendary_26', 'Legendary_12']\n",
      "\n"
     ]
    },
    {
     "data": {
      "text/markdown": [
       "### Numerical Columns"
      ],
      "text/plain": [
       "<IPython.core.display.Markdown object>"
      ]
     },
     "metadata": {},
     "output_type": "display_data"
    },
    {
     "name": "stdout",
     "output_type": "stream",
     "text": [
      "Column '#_0':\n"
     ]
    },
    {
     "data": {
      "text/html": [
       "<div>\n",
       "<style scoped>\n",
       "    .dataframe tbody tr th:only-of-type {\n",
       "        vertical-align: middle;\n",
       "    }\n",
       "\n",
       "    .dataframe tbody tr th {\n",
       "        vertical-align: top;\n",
       "    }\n",
       "\n",
       "    .dataframe thead th {\n",
       "        text-align: right;\n",
       "    }\n",
       "</style>\n",
       "<table border=\"1\" class=\"dataframe\">\n",
       "  <thead>\n",
       "    <tr style=\"text-align: right;\">\n",
       "      <th></th>\n",
       "      <th>Metric</th>\n",
       "      <th>Val in DS1</th>\n",
       "      <th>Val in DS2</th>\n",
       "      <th>Threshold</th>\n",
       "      <th>Relative Diff</th>\n",
       "    </tr>\n",
       "  </thead>\n",
       "  <tbody>\n",
       "    <tr>\n",
       "      <th>0</th>\n",
       "      <td>mean</td>\n",
       "      <td>150.50</td>\n",
       "      <td>511.00</td>\n",
       "      <td>+/- 15.0 %</td>\n",
       "      <td>+239.53 %</td>\n",
       "    </tr>\n",
       "    <tr>\n",
       "      <th>1</th>\n",
       "      <td>median</td>\n",
       "      <td>150.50</td>\n",
       "      <td>511.00</td>\n",
       "      <td>+/- 15.0 %</td>\n",
       "      <td>+239.53 %</td>\n",
       "    </tr>\n",
       "    <tr>\n",
       "      <th>2</th>\n",
       "      <td>quartile_1</td>\n",
       "      <td>75.75</td>\n",
       "      <td>406.00</td>\n",
       "      <td>+/- 20.0 %</td>\n",
       "      <td>+435.97 %</td>\n",
       "    </tr>\n",
       "    <tr>\n",
       "      <th>3</th>\n",
       "      <td>quartile_3</td>\n",
       "      <td>225.25</td>\n",
       "      <td>616.00</td>\n",
       "      <td>+/- 20.0 %</td>\n",
       "      <td>+173.47 %</td>\n",
       "    </tr>\n",
       "    <tr>\n",
       "      <th>4</th>\n",
       "      <td>std</td>\n",
       "      <td>86.75</td>\n",
       "      <td>121.68</td>\n",
       "      <td>+/- 25.0 %</td>\n",
       "      <td>+40.27 %</td>\n",
       "    </tr>\n",
       "  </tbody>\n",
       "</table>\n",
       "</div>"
      ],
      "text/plain": [
       "       Metric  Val in DS1  Val in DS2   Threshold Relative Diff\n",
       "0        mean      150.50      511.00  +/- 15.0 %     +239.53 %\n",
       "1      median      150.50      511.00  +/- 15.0 %     +239.53 %\n",
       "2  quartile_1       75.75      406.00  +/- 20.0 %     +435.97 %\n",
       "3  quartile_3      225.25      616.00  +/- 20.0 %     +173.47 %\n",
       "4         std       86.75      121.68  +/- 25.0 %      +40.27 %"
      ]
     },
     "metadata": {},
     "output_type": "display_data"
    },
    {
     "name": "stdout",
     "output_type": "stream",
     "text": [
      "\n",
      "\n",
      "Column '#_14':\n"
     ]
    },
    {
     "data": {
      "text/html": [
       "<div>\n",
       "<style scoped>\n",
       "    .dataframe tbody tr th:only-of-type {\n",
       "        vertical-align: middle;\n",
       "    }\n",
       "\n",
       "    .dataframe tbody tr th {\n",
       "        vertical-align: top;\n",
       "    }\n",
       "\n",
       "    .dataframe thead th {\n",
       "        text-align: right;\n",
       "    }\n",
       "</style>\n",
       "<table border=\"1\" class=\"dataframe\">\n",
       "  <thead>\n",
       "    <tr style=\"text-align: right;\">\n",
       "      <th></th>\n",
       "      <th>Metric</th>\n",
       "      <th>Val in DS1</th>\n",
       "      <th>Val in DS2</th>\n",
       "      <th>Threshold</th>\n",
       "      <th>Relative Diff</th>\n",
       "    </tr>\n",
       "  </thead>\n",
       "  <tbody>\n",
       "    <tr>\n",
       "      <th>0</th>\n",
       "      <td>mean</td>\n",
       "      <td>150.50</td>\n",
       "      <td>511.00</td>\n",
       "      <td>+/- 15.0 %</td>\n",
       "      <td>+239.53 %</td>\n",
       "    </tr>\n",
       "    <tr>\n",
       "      <th>1</th>\n",
       "      <td>median</td>\n",
       "      <td>150.50</td>\n",
       "      <td>511.00</td>\n",
       "      <td>+/- 15.0 %</td>\n",
       "      <td>+239.53 %</td>\n",
       "    </tr>\n",
       "    <tr>\n",
       "      <th>2</th>\n",
       "      <td>quartile_1</td>\n",
       "      <td>75.75</td>\n",
       "      <td>406.00</td>\n",
       "      <td>+/- 20.0 %</td>\n",
       "      <td>+435.97 %</td>\n",
       "    </tr>\n",
       "    <tr>\n",
       "      <th>3</th>\n",
       "      <td>quartile_3</td>\n",
       "      <td>225.25</td>\n",
       "      <td>616.00</td>\n",
       "      <td>+/- 20.0 %</td>\n",
       "      <td>+173.47 %</td>\n",
       "    </tr>\n",
       "    <tr>\n",
       "      <th>4</th>\n",
       "      <td>std</td>\n",
       "      <td>86.75</td>\n",
       "      <td>121.68</td>\n",
       "      <td>+/- 25.0 %</td>\n",
       "      <td>+40.27 %</td>\n",
       "    </tr>\n",
       "  </tbody>\n",
       "</table>\n",
       "</div>"
      ],
      "text/plain": [
       "       Metric  Val in DS1  Val in DS2   Threshold Relative Diff\n",
       "0        mean      150.50      511.00  +/- 15.0 %     +239.53 %\n",
       "1      median      150.50      511.00  +/- 15.0 %     +239.53 %\n",
       "2  quartile_1       75.75      406.00  +/- 20.0 %     +435.97 %\n",
       "3  quartile_3      225.25      616.00  +/- 20.0 %     +173.47 %\n",
       "4         std       86.75      121.68  +/- 25.0 %      +40.27 %"
      ]
     },
     "metadata": {},
     "output_type": "display_data"
    },
    {
     "name": "stdout",
     "output_type": "stream",
     "text": [
      "\n",
      "\n",
      "Column 'Generation_11':\n"
     ]
    },
    {
     "data": {
      "text/html": [
       "<div>\n",
       "<style scoped>\n",
       "    .dataframe tbody tr th:only-of-type {\n",
       "        vertical-align: middle;\n",
       "    }\n",
       "\n",
       "    .dataframe tbody tr th {\n",
       "        vertical-align: top;\n",
       "    }\n",
       "\n",
       "    .dataframe thead th {\n",
       "        text-align: right;\n",
       "    }\n",
       "</style>\n",
       "<table border=\"1\" class=\"dataframe\">\n",
       "  <thead>\n",
       "    <tr style=\"text-align: right;\">\n",
       "      <th></th>\n",
       "      <th>Metric</th>\n",
       "      <th>Val in DS1</th>\n",
       "      <th>Val in DS2</th>\n",
       "      <th>Threshold</th>\n",
       "      <th>Relative Diff</th>\n",
       "    </tr>\n",
       "  </thead>\n",
       "  <tbody>\n",
       "    <tr>\n",
       "      <th>0</th>\n",
       "      <td>mean</td>\n",
       "      <td>1.66</td>\n",
       "      <td>4.51</td>\n",
       "      <td>+/- 15.0 %</td>\n",
       "      <td>+171.59 %</td>\n",
       "    </tr>\n",
       "    <tr>\n",
       "      <th>1</th>\n",
       "      <td>median</td>\n",
       "      <td>1.00</td>\n",
       "      <td>5.00</td>\n",
       "      <td>+/- 15.0 %</td>\n",
       "      <td>+400.0 %</td>\n",
       "    </tr>\n",
       "    <tr>\n",
       "      <th>2</th>\n",
       "      <td>quartile_1</td>\n",
       "      <td>1.00</td>\n",
       "      <td>4.00</td>\n",
       "      <td>+/- 20.0 %</td>\n",
       "      <td>+300.0 %</td>\n",
       "    </tr>\n",
       "    <tr>\n",
       "      <th>3</th>\n",
       "      <td>quartile_3</td>\n",
       "      <td>2.00</td>\n",
       "      <td>5.00</td>\n",
       "      <td>+/- 20.0 %</td>\n",
       "      <td>+150.0 %</td>\n",
       "    </tr>\n",
       "    <tr>\n",
       "      <th>4</th>\n",
       "      <td>std</td>\n",
       "      <td>0.74</td>\n",
       "      <td>1.00</td>\n",
       "      <td>+/- 25.0 %</td>\n",
       "      <td>+34.68 %</td>\n",
       "    </tr>\n",
       "    <tr>\n",
       "      <th>5</th>\n",
       "      <td>num_distinct</td>\n",
       "      <td>3.00</td>\n",
       "      <td>4.00</td>\n",
       "      <td>+/- 20.0 %</td>\n",
       "      <td>+33.33 %</td>\n",
       "    </tr>\n",
       "  </tbody>\n",
       "</table>\n",
       "</div>"
      ],
      "text/plain": [
       "         Metric  Val in DS1  Val in DS2   Threshold Relative Diff\n",
       "0          mean        1.66        4.51  +/- 15.0 %     +171.59 %\n",
       "1        median        1.00        5.00  +/- 15.0 %      +400.0 %\n",
       "2    quartile_1        1.00        4.00  +/- 20.0 %      +300.0 %\n",
       "3    quartile_3        2.00        5.00  +/- 20.0 %      +150.0 %\n",
       "4           std        0.74        1.00  +/- 25.0 %      +34.68 %\n",
       "5  num_distinct        3.00        4.00  +/- 20.0 %      +33.33 %"
      ]
     },
     "metadata": {},
     "output_type": "display_data"
    },
    {
     "name": "stdout",
     "output_type": "stream",
     "text": [
      "\n",
      "\n",
      "Column 'Generation_25':\n"
     ]
    },
    {
     "data": {
      "text/html": [
       "<div>\n",
       "<style scoped>\n",
       "    .dataframe tbody tr th:only-of-type {\n",
       "        vertical-align: middle;\n",
       "    }\n",
       "\n",
       "    .dataframe tbody tr th {\n",
       "        vertical-align: top;\n",
       "    }\n",
       "\n",
       "    .dataframe thead th {\n",
       "        text-align: right;\n",
       "    }\n",
       "</style>\n",
       "<table border=\"1\" class=\"dataframe\">\n",
       "  <thead>\n",
       "    <tr style=\"text-align: right;\">\n",
       "      <th></th>\n",
       "      <th>Metric</th>\n",
       "      <th>Val in DS1</th>\n",
       "      <th>Val in DS2</th>\n",
       "      <th>Threshold</th>\n",
       "      <th>Relative Diff</th>\n",
       "    </tr>\n",
       "  </thead>\n",
       "  <tbody>\n",
       "    <tr>\n",
       "      <th>0</th>\n",
       "      <td>mean</td>\n",
       "      <td>1.66</td>\n",
       "      <td>4.51</td>\n",
       "      <td>+/- 15.0 %</td>\n",
       "      <td>+171.59 %</td>\n",
       "    </tr>\n",
       "    <tr>\n",
       "      <th>1</th>\n",
       "      <td>median</td>\n",
       "      <td>1.00</td>\n",
       "      <td>5.00</td>\n",
       "      <td>+/- 15.0 %</td>\n",
       "      <td>+400.0 %</td>\n",
       "    </tr>\n",
       "    <tr>\n",
       "      <th>2</th>\n",
       "      <td>quartile_1</td>\n",
       "      <td>1.00</td>\n",
       "      <td>4.00</td>\n",
       "      <td>+/- 20.0 %</td>\n",
       "      <td>+300.0 %</td>\n",
       "    </tr>\n",
       "    <tr>\n",
       "      <th>3</th>\n",
       "      <td>quartile_3</td>\n",
       "      <td>2.00</td>\n",
       "      <td>5.00</td>\n",
       "      <td>+/- 20.0 %</td>\n",
       "      <td>+150.0 %</td>\n",
       "    </tr>\n",
       "    <tr>\n",
       "      <th>4</th>\n",
       "      <td>std</td>\n",
       "      <td>0.74</td>\n",
       "      <td>1.00</td>\n",
       "      <td>+/- 25.0 %</td>\n",
       "      <td>+34.68 %</td>\n",
       "    </tr>\n",
       "    <tr>\n",
       "      <th>5</th>\n",
       "      <td>num_distinct</td>\n",
       "      <td>3.00</td>\n",
       "      <td>4.00</td>\n",
       "      <td>+/- 20.0 %</td>\n",
       "      <td>+33.33 %</td>\n",
       "    </tr>\n",
       "  </tbody>\n",
       "</table>\n",
       "</div>"
      ],
      "text/plain": [
       "         Metric  Val in DS1  Val in DS2   Threshold Relative Diff\n",
       "0          mean        1.66        4.51  +/- 15.0 %     +171.59 %\n",
       "1        median        1.00        5.00  +/- 15.0 %      +400.0 %\n",
       "2    quartile_1        1.00        4.00  +/- 20.0 %      +300.0 %\n",
       "3    quartile_3        2.00        5.00  +/- 20.0 %      +150.0 %\n",
       "4           std        0.74        1.00  +/- 25.0 %      +34.68 %\n",
       "5  num_distinct        3.00        4.00  +/- 20.0 %      +33.33 %"
      ]
     },
     "metadata": {},
     "output_type": "display_data"
    },
    {
     "name": "stdout",
     "output_type": "stream",
     "text": [
      "\n",
      "\n",
      "Column 'HP_19':\n"
     ]
    },
    {
     "data": {
      "text/html": [
       "<div>\n",
       "<style scoped>\n",
       "    .dataframe tbody tr th:only-of-type {\n",
       "        vertical-align: middle;\n",
       "    }\n",
       "\n",
       "    .dataframe tbody tr th {\n",
       "        vertical-align: top;\n",
       "    }\n",
       "\n",
       "    .dataframe thead th {\n",
       "        text-align: right;\n",
       "    }\n",
       "</style>\n",
       "<table border=\"1\" class=\"dataframe\">\n",
       "  <thead>\n",
       "    <tr style=\"text-align: right;\">\n",
       "      <th></th>\n",
       "      <th>Metric</th>\n",
       "      <th>Val in DS1</th>\n",
       "      <th>Val in DS2</th>\n",
       "      <th>Threshold</th>\n",
       "      <th>Relative Diff</th>\n",
       "    </tr>\n",
       "  </thead>\n",
       "  <tbody>\n",
       "    <tr>\n",
       "      <th>0</th>\n",
       "      <td>quartile_1</td>\n",
       "      <td>45.75</td>\n",
       "      <td>55.0</td>\n",
       "      <td>+/- 20.0 %</td>\n",
       "      <td>+20.22 %</td>\n",
       "    </tr>\n",
       "  </tbody>\n",
       "</table>\n",
       "</div>"
      ],
      "text/plain": [
       "       Metric  Val in DS1  Val in DS2   Threshold Relative Diff\n",
       "0  quartile_1       45.75        55.0  +/- 20.0 %      +20.22 %"
      ]
     },
     "metadata": {},
     "output_type": "display_data"
    },
    {
     "name": "stdout",
     "output_type": "stream",
     "text": [
      "\n",
      "\n",
      "Column 'HP_5':\n"
     ]
    },
    {
     "data": {
      "text/html": [
       "<div>\n",
       "<style scoped>\n",
       "    .dataframe tbody tr th:only-of-type {\n",
       "        vertical-align: middle;\n",
       "    }\n",
       "\n",
       "    .dataframe tbody tr th {\n",
       "        vertical-align: top;\n",
       "    }\n",
       "\n",
       "    .dataframe thead th {\n",
       "        text-align: right;\n",
       "    }\n",
       "</style>\n",
       "<table border=\"1\" class=\"dataframe\">\n",
       "  <thead>\n",
       "    <tr style=\"text-align: right;\">\n",
       "      <th></th>\n",
       "      <th>Metric</th>\n",
       "      <th>Val in DS1</th>\n",
       "      <th>Val in DS2</th>\n",
       "      <th>Threshold</th>\n",
       "      <th>Relative Diff</th>\n",
       "    </tr>\n",
       "  </thead>\n",
       "  <tbody>\n",
       "    <tr>\n",
       "      <th>0</th>\n",
       "      <td>quartile_1</td>\n",
       "      <td>45.75</td>\n",
       "      <td>55.0</td>\n",
       "      <td>+/- 20.0 %</td>\n",
       "      <td>+20.22 %</td>\n",
       "    </tr>\n",
       "  </tbody>\n",
       "</table>\n",
       "</div>"
      ],
      "text/plain": [
       "       Metric  Val in DS1  Val in DS2   Threshold Relative Diff\n",
       "0  quartile_1       45.75        55.0  +/- 20.0 %      +20.22 %"
      ]
     },
     "metadata": {},
     "output_type": "display_data"
    },
    {
     "name": "stdout",
     "output_type": "stream",
     "text": [
      "\n",
      "\n",
      "Column 'Sp. Atk_22':\n"
     ]
    },
    {
     "data": {
      "text/html": [
       "<div>\n",
       "<style scoped>\n",
       "    .dataframe tbody tr th:only-of-type {\n",
       "        vertical-align: middle;\n",
       "    }\n",
       "\n",
       "    .dataframe tbody tr th {\n",
       "        vertical-align: top;\n",
       "    }\n",
       "\n",
       "    .dataframe thead th {\n",
       "        text-align: right;\n",
       "    }\n",
       "</style>\n",
       "<table border=\"1\" class=\"dataframe\">\n",
       "  <thead>\n",
       "    <tr style=\"text-align: right;\">\n",
       "      <th></th>\n",
       "      <th>Metric</th>\n",
       "      <th>Val in DS1</th>\n",
       "      <th>Val in DS2</th>\n",
       "      <th>Threshold</th>\n",
       "      <th>Relative Diff</th>\n",
       "    </tr>\n",
       "  </thead>\n",
       "  <tbody>\n",
       "    <tr>\n",
       "      <th>0</th>\n",
       "      <td>quartile_1</td>\n",
       "      <td>40.0</td>\n",
       "      <td>50.0</td>\n",
       "      <td>+/- 20.0 %</td>\n",
       "      <td>+25.0 %</td>\n",
       "    </tr>\n",
       "  </tbody>\n",
       "</table>\n",
       "</div>"
      ],
      "text/plain": [
       "       Metric  Val in DS1  Val in DS2   Threshold Relative Diff\n",
       "0  quartile_1        40.0        50.0  +/- 20.0 %       +25.0 %"
      ]
     },
     "metadata": {},
     "output_type": "display_data"
    },
    {
     "name": "stdout",
     "output_type": "stream",
     "text": [
      "\n",
      "\n",
      "Column 'Sp. Atk_8':\n"
     ]
    },
    {
     "data": {
      "text/html": [
       "<div>\n",
       "<style scoped>\n",
       "    .dataframe tbody tr th:only-of-type {\n",
       "        vertical-align: middle;\n",
       "    }\n",
       "\n",
       "    .dataframe tbody tr th {\n",
       "        vertical-align: top;\n",
       "    }\n",
       "\n",
       "    .dataframe thead th {\n",
       "        text-align: right;\n",
       "    }\n",
       "</style>\n",
       "<table border=\"1\" class=\"dataframe\">\n",
       "  <thead>\n",
       "    <tr style=\"text-align: right;\">\n",
       "      <th></th>\n",
       "      <th>Metric</th>\n",
       "      <th>Val in DS1</th>\n",
       "      <th>Val in DS2</th>\n",
       "      <th>Threshold</th>\n",
       "      <th>Relative Diff</th>\n",
       "    </tr>\n",
       "  </thead>\n",
       "  <tbody>\n",
       "    <tr>\n",
       "      <th>0</th>\n",
       "      <td>quartile_1</td>\n",
       "      <td>40.0</td>\n",
       "      <td>50.0</td>\n",
       "      <td>+/- 20.0 %</td>\n",
       "      <td>+25.0 %</td>\n",
       "    </tr>\n",
       "  </tbody>\n",
       "</table>\n",
       "</div>"
      ],
      "text/plain": [
       "       Metric  Val in DS1  Val in DS2   Threshold Relative Diff\n",
       "0  quartile_1        40.0        50.0  +/- 20.0 %       +25.0 %"
      ]
     },
     "metadata": {},
     "output_type": "display_data"
    },
    {
     "name": "stdout",
     "output_type": "stream",
     "text": [
      "\n",
      "\n"
     ]
    },
    {
     "data": {
      "text/markdown": [
       "### Categorical Columns"
      ],
      "text/plain": [
       "<IPython.core.display.Markdown object>"
      ]
     },
     "metadata": {},
     "output_type": "display_data"
    },
    {
     "name": "stdout",
     "output_type": "stream",
     "text": [
      "Attribute 'Generation_11':\n"
     ]
    },
    {
     "data": {
      "text/html": [
       "<div>\n",
       "<style scoped>\n",
       "    .dataframe tbody tr th:only-of-type {\n",
       "        vertical-align: middle;\n",
       "    }\n",
       "\n",
       "    .dataframe tbody tr th {\n",
       "        vertical-align: top;\n",
       "    }\n",
       "\n",
       "    .dataframe thead th {\n",
       "        text-align: right;\n",
       "    }\n",
       "</style>\n",
       "<table border=\"1\" class=\"dataframe\">\n",
       "  <thead>\n",
       "    <tr style=\"text-align: right;\">\n",
       "      <th></th>\n",
       "      <th>Attribute Value</th>\n",
       "      <th>Val in DS1</th>\n",
       "      <th>Val in DS2</th>\n",
       "      <th>Threshold</th>\n",
       "      <th>Relative Diff</th>\n",
       "    </tr>\n",
       "  </thead>\n",
       "  <tbody>\n",
       "    <tr>\n",
       "      <th>0</th>\n",
       "      <td>1.0</td>\n",
       "      <td>0.50</td>\n",
       "      <td>0</td>\n",
       "      <td>+/- 5.0 %</td>\n",
       "      <td>+50.33 %</td>\n",
       "    </tr>\n",
       "    <tr>\n",
       "      <th>1</th>\n",
       "      <td>2.0</td>\n",
       "      <td>0.33</td>\n",
       "      <td>0</td>\n",
       "      <td>+/- 5.0 %</td>\n",
       "      <td>+33.33 %</td>\n",
       "    </tr>\n",
       "  </tbody>\n",
       "</table>\n",
       "</div>"
      ],
      "text/plain": [
       "   Attribute Value  Val in DS1  Val in DS2  Threshold Relative Diff\n",
       "0              1.0        0.50           0  +/- 5.0 %      +50.33 %\n",
       "1              2.0        0.33           0  +/- 5.0 %      +33.33 %"
      ]
     },
     "metadata": {},
     "output_type": "display_data"
    },
    {
     "name": "stdout",
     "output_type": "stream",
     "text": [
      "\n",
      "\n",
      "Attribute 'Generation_25':\n"
     ]
    },
    {
     "data": {
      "text/html": [
       "<div>\n",
       "<style scoped>\n",
       "    .dataframe tbody tr th:only-of-type {\n",
       "        vertical-align: middle;\n",
       "    }\n",
       "\n",
       "    .dataframe tbody tr th {\n",
       "        vertical-align: top;\n",
       "    }\n",
       "\n",
       "    .dataframe thead th {\n",
       "        text-align: right;\n",
       "    }\n",
       "</style>\n",
       "<table border=\"1\" class=\"dataframe\">\n",
       "  <thead>\n",
       "    <tr style=\"text-align: right;\">\n",
       "      <th></th>\n",
       "      <th>Attribute Value</th>\n",
       "      <th>Val in DS1</th>\n",
       "      <th>Val in DS2</th>\n",
       "      <th>Threshold</th>\n",
       "      <th>Relative Diff</th>\n",
       "    </tr>\n",
       "  </thead>\n",
       "  <tbody>\n",
       "    <tr>\n",
       "      <th>0</th>\n",
       "      <td>1.0</td>\n",
       "      <td>0.50</td>\n",
       "      <td>0</td>\n",
       "      <td>+/- 5.0 %</td>\n",
       "      <td>+50.33 %</td>\n",
       "    </tr>\n",
       "    <tr>\n",
       "      <th>1</th>\n",
       "      <td>2.0</td>\n",
       "      <td>0.33</td>\n",
       "      <td>0</td>\n",
       "      <td>+/- 5.0 %</td>\n",
       "      <td>+33.33 %</td>\n",
       "    </tr>\n",
       "  </tbody>\n",
       "</table>\n",
       "</div>"
      ],
      "text/plain": [
       "   Attribute Value  Val in DS1  Val in DS2  Threshold Relative Diff\n",
       "0              1.0        0.50           0  +/- 5.0 %      +50.33 %\n",
       "1              2.0        0.33           0  +/- 5.0 %      +33.33 %"
      ]
     },
     "metadata": {},
     "output_type": "display_data"
    },
    {
     "name": "stdout",
     "output_type": "stream",
     "text": [
      "\n",
      "\n",
      "Attribute 'Legendary_12':\n"
     ]
    },
    {
     "data": {
      "text/html": [
       "<div>\n",
       "<style scoped>\n",
       "    .dataframe tbody tr th:only-of-type {\n",
       "        vertical-align: middle;\n",
       "    }\n",
       "\n",
       "    .dataframe tbody tr th {\n",
       "        vertical-align: top;\n",
       "    }\n",
       "\n",
       "    .dataframe thead th {\n",
       "        text-align: right;\n",
       "    }\n",
       "</style>\n",
       "<table border=\"1\" class=\"dataframe\">\n",
       "  <thead>\n",
       "    <tr style=\"text-align: right;\">\n",
       "      <th></th>\n",
       "      <th>Attribute Value</th>\n",
       "      <th>Val in DS1</th>\n",
       "      <th>Val in DS2</th>\n",
       "      <th>Threshold</th>\n",
       "      <th>Relative Diff</th>\n",
       "    </tr>\n",
       "  </thead>\n",
       "  <tbody>\n",
       "    <tr>\n",
       "      <th>0</th>\n",
       "      <td>False</td>\n",
       "      <td>0.97</td>\n",
       "      <td>0.91</td>\n",
       "      <td>+/- 5.0 %</td>\n",
       "      <td>+5.79 %</td>\n",
       "    </tr>\n",
       "  </tbody>\n",
       "</table>\n",
       "</div>"
      ],
      "text/plain": [
       "  Attribute Value  Val in DS1  Val in DS2  Threshold Relative Diff\n",
       "0           False        0.97        0.91  +/- 5.0 %       +5.79 %"
      ]
     },
     "metadata": {},
     "output_type": "display_data"
    },
    {
     "name": "stdout",
     "output_type": "stream",
     "text": [
      "\n",
      "\n",
      "Attribute 'Legendary_26':\n"
     ]
    },
    {
     "data": {
      "text/html": [
       "<div>\n",
       "<style scoped>\n",
       "    .dataframe tbody tr th:only-of-type {\n",
       "        vertical-align: middle;\n",
       "    }\n",
       "\n",
       "    .dataframe tbody tr th {\n",
       "        vertical-align: top;\n",
       "    }\n",
       "\n",
       "    .dataframe thead th {\n",
       "        text-align: right;\n",
       "    }\n",
       "</style>\n",
       "<table border=\"1\" class=\"dataframe\">\n",
       "  <thead>\n",
       "    <tr style=\"text-align: right;\">\n",
       "      <th></th>\n",
       "      <th>Attribute Value</th>\n",
       "      <th>Val in DS1</th>\n",
       "      <th>Val in DS2</th>\n",
       "      <th>Threshold</th>\n",
       "      <th>Relative Diff</th>\n",
       "    </tr>\n",
       "  </thead>\n",
       "  <tbody>\n",
       "    <tr>\n",
       "      <th>0</th>\n",
       "      <td>False</td>\n",
       "      <td>0.97</td>\n",
       "      <td>0.91</td>\n",
       "      <td>+/- 5.0 %</td>\n",
       "      <td>+5.79 %</td>\n",
       "    </tr>\n",
       "  </tbody>\n",
       "</table>\n",
       "</div>"
      ],
      "text/plain": [
       "  Attribute Value  Val in DS1  Val in DS2  Threshold Relative Diff\n",
       "0           False        0.97        0.91  +/- 5.0 %       +5.79 %"
      ]
     },
     "metadata": {},
     "output_type": "display_data"
    },
    {
     "name": "stdout",
     "output_type": "stream",
     "text": [
      "\n",
      "\n",
      "\n",
      "num 0, col #_0\n",
      "num 1, col #_14\n",
      "num 2, col Attack_20\n",
      "num 3, col Attack_6\n",
      "num 4, col Defense_21\n",
      "num 5, col Defense_7\n",
      "num 6, col Generation_11\n",
      "num 7, col Generation_25\n",
      "num 8, col HP_19\n",
      "num 9, col HP_5\n"
     ]
    },
    {
     "name": "stderr",
     "output_type": "stream",
     "text": [
      "/usr/local/lib/python3.7/site-packages/matplotlib/cbook/__init__.py:2349: DeprecationWarning: Using or importing the ABCs from 'collections' instead of from 'collections.abc' is deprecated, and in 3.8 it will stop working\n",
      "  if isinstance(obj, collections.Iterator):\n",
      "/usr/local/lib/python3.7/site-packages/matplotlib/cbook/__init__.py:2366: DeprecationWarning: Using or importing the ABCs from 'collections' instead of from 'collections.abc' is deprecated, and in 3.8 it will stop working\n",
      "  return list(data) if isinstance(data, collections.MappingView) else data\n"
     ]
    },
    {
     "name": "stdout",
     "output_type": "stream",
     "text": [
      "num 10, col Sp. Atk_22\n",
      "num 11, col Sp. Atk_8\n",
      "num 12, col Sp. Def_23\n",
      "num 13, col Sp. Def_9\n",
      "num 14, col Speed_10\n",
      "num 15, col Speed_24\n",
      "num 16, col Total_18\n",
      "num 17, col Total_4\n"
     ]
    },
    {
     "data": {
      "image/png": "[encoded data removed]",
      "text/plain": [
       "<Figure size 1440x1555.2 with 18 Axes>"
      ]
     },
     "metadata": {
      "needs_background": "light"
     },
     "output_type": "display_data"
    },
    {
     "data": {
      "image/png": "[encoded data removed]",
      "text/plain": [
       "<Figure size 1296x768 with 4 Axes>"
      ]
     },
     "metadata": {
      "needs_background": "light"
     },
     "output_type": "display_data"
    }
   ],
   "source": [
    "detector.evaluate()"
   ]
  },
  {
   "cell_type": "code",
   "execution_count": null,
   "metadata": {},
   "outputs": [],
   "source": []
  }
 ],
 "metadata": {
  "kernelspec": {
   "display_name": "Python 3",
   "language": "python",
   "name": "python3"
  },
  "language_info": {
   "codemirror_mode": {
    "name": "ipython",
    "version": 3
   },
   "file_extension": ".py",
   "mimetype": "text/x-python",
   "name": "python",
   "nbconvert_exporter": "python",
   "pygments_lexer": "ipython3",
   "version": "3.7.3"
  },
  "varInspector": {
   "cols": {
    "lenName": 16,
    "lenType": 16,
    "lenVar": 40
   },
   "kernels_config": {
    "python": {
     "delete_cmd_postfix": "",
     "delete_cmd_prefix": "del ",
     "library": "var_list.py",
     "varRefreshCmd": "print(var_dic_list())"
    },
    "r": {
     "delete_cmd_postfix": ") ",
     "delete_cmd_prefix": "rm(",
     "library": "var_list.r",
     "varRefreshCmd": "cat(var_dic_list()) "
    }
   },
   "types_to_exclude": [
    "module",
    "function",
    "builtin_function_or_method",
    "instance",
    "_Feature"
   ],
   "window_display": false
  }
 },
 "nbformat": 4,
 "nbformat_minor": 2
}
