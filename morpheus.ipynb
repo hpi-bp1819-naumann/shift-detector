{
 "cells": [
  {
   "cell_type": "code",
   "execution_count": 1,
   "metadata": {
    "ExecuteTime": {
     "end_time": "2019-06-18T07:54:44.746199Z",
     "start_time": "2019-06-18T07:54:42.554239Z"
    }
   },
   "outputs": [
    {
     "name": "stderr",
     "output_type": "stream",
     "text": [
      "2019-06-18 09:54:43,838 [INFO]  'pattern' package not found; tag filters are not available for English\n",
      "Using TensorFlow backend.\n"
     ]
    }
   ],
   "source": [
    "import shift_detector\n",
    "from shift_detector.detector import Detector\n",
    "from shift_detector.checks.simple_check import SimpleCheck\n",
    "from shift_detector.checks.distinction_check import DistinctionCheck\n",
    "from shift_detector.checks.sorensen_dice_check import SorensenDiceCheck\n",
    "from shift_detector.checks.conditional_probabilities_check import ConditionalProbabilitiesCheck\n",
    "from shift_detector.checks.embedding_distance_check import EmbeddingDistanceCheck\n",
    "from shift_detector.checks.word_prediction_check import WordPredictionCheck\n",
    "from shift_detector.checks.statistical_checks.numerical_statistical_check import NumericalStatisticalCheck\n",
    "from shift_detector.checks.statistical_checks.categorical_statistical_check import CategoricalStatisticalCheck\n",
    "from shift_detector.checks.statistical_checks.text_metadata_statistical_check import TextMetadataStatisticalCheck"
   ]
  },
  {
   "cell_type": "code",
   "execution_count": 2,
   "metadata": {
    "ExecuteTime": {
     "end_time": "2019-06-18T07:54:44.768296Z",
     "start_time": "2019-06-18T07:54:44.747896Z"
    },
    "scrolled": true
   },
   "outputs": [
    {
     "name": "stdout",
     "output_type": "stream",
     "text": [
      "Numerical columns: payment2, payment\n",
      "Categorical columns: brand\n",
      "Text columns: description\n",
      "Used columns: brand, payment, payment2, description\n"
     ]
    }
   ],
   "source": [
    "import pandas as pd\n",
    "'''\n",
    "df1 = './../train_ascii.csv'\n",
    "df1 = pd.read_csv(df1, delimiter=';').sample(100)\n",
    "df2 = './../audits_ascii.csv'\n",
    "df2 = pd.read_csv(df2, delimiter=';')\n",
    "'''\n",
    "sales1 = {'brand': [\"Jones LLC\", \"Alpha Co\", \"Blue Inc\", \"Blue Inc\", \"Alpha Co\",\n",
    "                   \"Jones LLC\", \"Alpha Co\", \"Blue Inc\", \"Blue Inc\", \"Alpha Co\",\n",
    "                   \"Jones LLC\"] * 10,\n",
    "         'payment': [150., 200., 50., 10., 5., 150., 200., 50., 10., 5., 1.] * 10,\n",
    "         'payment2': [15., 2., 5., 0., 5., 3., 200., 50., 10., 5., 1.] * 10,\n",
    "         'description': [\"A\", \"B\", \"C\", \"D\", \"E\", \"F\", \"G\", \"H\", \"I\", \"J\", \"K\"] * 10}\n",
    "\n",
    "sales2 = {'brand': [\"Blue Inc\", \"Alpha Co\",\n",
    "                   \"Jones LLC\", \"Alpha Co\", \"Blue Inc\", \"Blue Inc\", \"Alpha Co\",\n",
    "                   \"Jones LLC\"] * 10,\n",
    "         'payment': [10, 5, 150, 200, 50, 10, 5, 1] * 10,\n",
    "         'payment2': [15, 2, 5, 0, 5, 3, 200, 50] * 10,\n",
    "         'description': [\"D\", \"E\", \"F\", \"G\", \"H\", \"I\", \"J\", \"K\"] * 10}\n",
    "\n",
    "df1 = pd.DataFrame.from_dict(sales1)\n",
    "df2 = pd.DataFrame.from_dict(sales2)\n",
    "\n",
    "detector = Detector(df1, df2)"
   ]
  },
  {
   "cell_type": "code",
   "execution_count": 3,
   "metadata": {
    "ExecuteTime": {
     "end_time": "2019-06-18T07:54:44.773157Z",
     "start_time": "2019-06-18T07:54:44.769888Z"
    }
   },
   "outputs": [],
   "source": [
    "sc = SimpleCheck()\n",
    "dc = DistinctionCheck(num_epochs=10, relative_threshold=0.2)\n",
    "cp = ConditionalProbabilitiesCheck(min_support=0.01, min_confidence=0.01, rule_limit=10,\n",
    "                                               min_delta_supports=0.01, min_delta_confidences=0.01)\n",
    "sdc = SorensenDiceCheck(n=1)\n",
    "edc = EmbeddingDistanceCheck()\n",
    "# wpc = WordPredictionCheck(lstm_window=1)\n",
    "nsc = NumericalStatisticalCheck()\n",
    "csc = CategoricalStatisticalCheck()\n",
    "tmc = TextMetadataStatisticalCheck()"
   ]
  },
  {
   "cell_type": "code",
   "execution_count": 4,
   "metadata": {
    "ExecuteTime": {
     "end_time": "2019-06-18T07:54:46.940760Z",
     "start_time": "2019-06-18T07:54:44.775036Z"
    },
    "scrolled": true
   },
   "outputs": [
    {
     "name": "stdout",
     "output_type": "stream",
     "text": [
      "Executing SimpleCheck\n",
      "    - Executing SimplePrecalculation\n",
      "Executing DistinctionCheck\n",
      "    - Executing DistinctionPrecalculation\n",
      "Executing ConditionalProbabilitiesCheck\n",
      "    - Executing ConditionalProbabilitiesPrecalculation\n",
      "    - Executing BinningPrecalculation\n",
      "Executing SorensenDiceCheck\n",
      "    - Executing SorensenDicePrecalculations\n",
      "    - Executing NGram\n",
      "Executing EmbeddingDistanceCheck\n",
      "    - Executing EmbeddingDistancePrecalculation\n",
      "    - Executing TextEmbeddingPrecalculation\n",
      "    - Executing TokenizeIntoLowerWordsPrecalculation\n",
      "Executing NumericalStatisticalCheck\n",
      "Executing CategoricalStatisticalCheck\n",
      "    - Executing LowCardinalityPrecalculation\n",
      "Executing TextMetadataStatisticalCheck\n",
      "    - Executing TextMetadata\n",
      "    - Executing NumWordsMetadata\n",
      "    - Use already executed TokenizeIntoLowerWordsPrecalculation\n",
      "    - Executing NumCharsMetadata\n",
      "    - Executing DistinctWordsRatioMetadata\n",
      "    - Use already executed TokenizeIntoLowerWordsPrecalculation\n"
     ]
    }
   ],
   "source": [
    "import logging\n",
    "\n",
    "detector.run(sc, dc, cp, sdc, edc, nsc, csc, tmc)"
   ]
  },
  {
   "cell_type": "code",
   "execution_count": 5,
   "metadata": {
    "ExecuteTime": {
     "end_time": "2019-06-18T07:54:47.691249Z",
     "start_time": "2019-06-18T07:54:46.942392Z"
    },
    "scrolled": false
   },
   "outputs": [
    {
     "data": {
      "text/markdown": [
       "# OVERVIEW"
      ],
      "text/plain": [
       "<IPython.core.display.Markdown object>"
      ]
     },
     "metadata": {},
     "output_type": "display_data"
    },
    {
     "name": "stdout",
     "output_type": "stream",
     "text": [
      "Executed 8 checks\n"
     ]
    },
    {
     "data": {
      "text/html": [
       "<div>\n",
       "<style scoped>\n",
       "    .dataframe tbody tr th:only-of-type {\n",
       "        vertical-align: middle;\n",
       "    }\n",
       "\n",
       "    .dataframe tbody tr th {\n",
       "        vertical-align: top;\n",
       "    }\n",
       "\n",
       "    .dataframe thead th {\n",
       "        text-align: right;\n",
       "    }\n",
       "</style>\n",
       "<table border=\"1\" class=\"dataframe\">\n",
       "  <thead>\n",
       "    <tr style=\"text-align: right;\">\n",
       "      <th></th>\n",
       "      <th>Column</th>\n",
       "      <th># Checks Failed</th>\n",
       "      <th># Checks Executed</th>\n",
       "    </tr>\n",
       "  </thead>\n",
       "  <tbody>\n",
       "    <tr>\n",
       "      <th>0</th>\n",
       "      <td>payment2</td>\n",
       "      <td>1</td>\n",
       "      <td>5</td>\n",
       "    </tr>\n",
       "    <tr>\n",
       "      <th>1</th>\n",
       "      <td>payment</td>\n",
       "      <td>1</td>\n",
       "      <td>5</td>\n",
       "    </tr>\n",
       "    <tr>\n",
       "      <th>2</th>\n",
       "      <td>brand</td>\n",
       "      <td>0</td>\n",
       "      <td>4</td>\n",
       "    </tr>\n",
       "    <tr>\n",
       "      <th>3</th>\n",
       "      <td>description</td>\n",
       "      <td>0</td>\n",
       "      <td>4</td>\n",
       "    </tr>\n",
       "  </tbody>\n",
       "</table>\n",
       "</div>"
      ],
      "text/plain": [
       "        Column  # Checks Failed  # Checks Executed\n",
       "0     payment2                1                  5\n",
       "1      payment                1                  5\n",
       "2        brand                0                  4\n",
       "3  description                0                  4"
      ]
     },
     "metadata": {},
     "output_type": "display_data"
    },
    {
     "data": {
      "text/markdown": [
       "# DETAILS"
      ],
      "text/plain": [
       "<IPython.core.display.Markdown object>"
      ]
     },
     "metadata": {},
     "output_type": "display_data"
    },
    {
     "data": {
      "text/markdown": [
       "## Simple Check"
      ],
      "text/plain": [
       "<IPython.core.display.Markdown object>"
      ]
     },
     "metadata": {},
     "output_type": "display_data"
    },
    {
     "name": "stdout",
     "output_type": "stream",
     "text": [
      "Examined Columns: ['payment2', 'payment', 'brand']\n",
      "Shifted Columns: ['payment2', 'payment']\n",
      "\n",
      "Column 'payment':\n",
      "Metric: mean with Diff: -0.29 %\n",
      "Metric: median with Diff: -0.8 %\n",
      "Metric: quartile_3 with Diff: -0.5 %\n",
      "Metric: completeness with Diff: -0.27 %\n",
      "\n",
      "Column 'payment2':\n",
      "Metric: mean with Diff: +0.3 %\n",
      "Metric: quartile_1 with Diff: +0.38 %\n",
      "Metric: quartile_3 with Diff: +0.58 %\n",
      "Metric: num_distinct with Diff: -0.22 %\n",
      "Metric: completeness with Diff: -0.27 %\n",
      "Metric: std with Diff: +0.14 %\n",
      "\n",
      "\n"
     ]
    },
    {
     "data": {
      "image/png": "[encoded data removed]",
      "text/plain": [
       "<Figure size 1440x504 with 2 Axes>"
      ]
     },
     "metadata": {
      "needs_background": "light"
     },
     "output_type": "display_data"
    },
    {
     "name": "stderr",
     "output_type": "stream",
     "text": [
      "/usr/local/lib/python3.7/site-packages/matplotlib/figure.py:445: UserWarning: Matplotlib is currently using module://ipykernel.pylab.backend_inline, which is a non-GUI backend, so cannot show the figure.\n",
      "  % get_backend())\n"
     ]
    },
    {
     "data": {
      "text/markdown": [
       "## Distinction Check"
      ],
      "text/plain": [
       "<IPython.core.display.Markdown object>"
      ]
     },
     "metadata": {},
     "output_type": "display_data"
    },
    {
     "name": "stdout",
     "output_type": "stream",
     "text": [
      "Examined Columns: ['brand', 'payment', 'payment2', 'description']\n",
      "Shifted Columns: []\n",
      "\n",
      "Column 'brand':\n",
      "0.5625 -> 0.5859375\n",
      "Column 'payment':\n",
      "0.5625 -> 0.5359375\n",
      "Column 'payment2':\n",
      "0.5625 -> 0.6203125\n",
      "Column 'description':\n",
      "0.5625 -> 0.525\n",
      "'Classification Report':\n",
      "              precision    recall  f1-score   support\n",
      "\n",
      "           A       0.58      0.44      0.50        16\n",
      "           B       0.55      0.69      0.61        16\n",
      "\n",
      "   micro avg       0.56      0.56      0.56        32\n",
      "   macro avg       0.57      0.56      0.56        32\n",
      "weighted avg       0.57      0.56      0.56        32\n",
      "\n",
      "'F1 score df1':\n",
      "0.5\n",
      "'F1 score df2':\n",
      "0.6111111111111112\n",
      "\n"
     ]
    },
    {
     "data": {
      "text/markdown": [
       "## Conditional Probabilities"
      ],
      "text/plain": [
       "<IPython.core.display.Markdown object>"
      ]
     },
     "metadata": {},
     "output_type": "display_data"
    },
    {
     "name": "stdout",
     "output_type": "stream",
     "text": [
      "Examined Columns: ['brand', 'payment2', 'payment']\n",
      "Shifted Columns: [('brand', 'payment2'), ('payment', 'payment2')]\n",
      "\n",
      "[payment2: 5.0, payment: 5.0]\n",
      "payment: 5.0, payment2: 5.0 => () [SLS: (18%, 0%), S: (18%, 0%), C: (100%, 0%)]\n",
      "delta_support: 18%, number of sub-rules: 7\n",
      "\n",
      "[payment: 1.0, payment2: 50.0]\n",
      "payment: 1.0 => payment2: 50.0 [SLS: (9%, 12%), S: (0%, 12%), C: (0%, 100%)]\n",
      "delta_support: 12%, number of sub-rules: 9\n",
      "\n",
      "[payment2: 15.0, payment: 10.0]\n",
      "payment: 10.0, payment2: 15.0 => () [SLS: (0%, 12%), S: (0%, 12%), C: (0%, 100%)]\n",
      "delta_support: 12%, number of sub-rules: 9\n",
      "\n",
      "[payment: 150.0, payment2: 5.0]\n",
      "payment: 150.0 => payment2: 5.0 [SLS: (18%, 12%), S: (0%, 12%), C: (0%, 100%)]\n",
      "delta_support: 12%, number of sub-rules: 7\n",
      "\n",
      "[payment2: 2.0, payment: 5.0]\n",
      "payment: 5.0 => payment2: 2.0 [SLS: (18%, 25%), S: (0%, 12%), C: (0%, 50%)]\n",
      "delta_support: 12%, number of sub-rules: 9\n",
      "\n",
      "[payment: 10.0, payment2: 3.0]\n",
      "payment: 10.0 => payment2: 3.0 [SLS: (18%, 25%), S: (0%, 12%), C: (0%, 50%)]\n",
      "delta_support: 12%, number of sub-rules: 9\n",
      "\n",
      "[payment: 200.0, payment2: 0.0]\n",
      "payment: 200.0, payment2: 0.0 => () [SLS: (0%, 12%), S: (0%, 12%), C: (0%, 100%)]\n",
      "delta_support: 12%, number of sub-rules: 9\n",
      "\n",
      "[payment: 5.0, payment2: 200.0]\n",
      "payment: 5.0, payment2: 200.0 => () [SLS: (0%, 12%), S: (0%, 12%), C: (0%, 100%)]\n",
      "delta_support: 12%, number of sub-rules: 9\n",
      "\n",
      "\n",
      "[payment2: 5.0, brand: Alpha Co]\n",
      "brand: Alpha Co => payment2: 5.0 [SLS: (36%, 38%), S: (18%, 0%), C: (50%, 0%)]\n",
      "delta_support: 18%, number of sub-rules: 1\n",
      "\n",
      "[payment2: 50.0, brand: Jones LLC]\n",
      "brand: Jones LLC => payment2: 50.0 [SLS: (27%, 25%), S: (0%, 12%), C: (0%, 50%)]\n",
      "delta_support: 12%, number of sub-rules: 2\n",
      "\n"
     ]
    },
    {
     "data": {
      "image/png": "[encoded data removed]",
      "text/plain": [
       "<Figure size 1440x504 with 1 Axes>"
      ]
     },
     "metadata": {
      "needs_background": "light"
     },
     "output_type": "display_data"
    },
    {
     "data": {
      "text/markdown": [
       "## Sorensen Dice Check"
      ],
      "text/plain": [
       "<IPython.core.display.Markdown object>"
      ]
     },
     "metadata": {},
     "output_type": "display_data"
    },
    {
     "name": "stdout",
     "output_type": "stream",
     "text": [
      "Examined Columns: ['description']\n",
      "Shifted Columns: []\n",
      "\n",
      "Column 'description':\n",
      "\tBaseline in Dataset1: 0.32692307692307687\n",
      "\tBaseline in Dataset2: 0.3421052631578947\n",
      "\tSorensen Dice Coefficient between Datasets: 0.7272727272727274\n",
      "\n"
     ]
    },
    {
     "data": {
      "text/markdown": [
       "## Embedding Distance Check"
      ],
      "text/plain": [
       "<IPython.core.display.Markdown object>"
      ]
     },
     "metadata": {},
     "output_type": "display_data"
    },
    {
     "name": "stdout",
     "output_type": "stream",
     "text": [
      "Examined Columns: ['description']\n",
      "Shifted Columns: []\n",
      "\n",
      "Column 'description':\n",
      "\tBaseline in Dataset1: 0.014367281410354371\n",
      "\tBaseline in Dataset2: 0.010505547055179965\n",
      "\tDistance between Datasets: 0.005387029431851528\n",
      "\n"
     ]
    },
    {
     "data": {
      "text/markdown": [
       "## Statistical Check"
      ],
      "text/plain": [
       "<IPython.core.display.Markdown object>"
      ]
     },
     "metadata": {},
     "output_type": "display_data"
    },
    {
     "name": "stdout",
     "output_type": "stream",
     "text": [
      "Examined Columns: ['payment2', 'payment']\n",
      "Shifted Columns: []\n",
      "\n",
      "'test_results':\n",
      "        payment2   payment\n",
      "pvalue  0.694614  0.121573\n",
      "\n"
     ]
    },
    {
     "data": {
      "text/markdown": [
       "## Statistical Check"
      ],
      "text/plain": [
       "<IPython.core.display.Markdown object>"
      ]
     },
     "metadata": {},
     "output_type": "display_data"
    },
    {
     "name": "stdout",
     "output_type": "stream",
     "text": [
      "Examined Columns: ['brand', 'payment2', 'payment']\n",
      "Shifted Columns: []\n",
      "\n",
      "'test_results':\n",
      "           brand  payment2   payment\n",
      "pvalue  0.945562  0.029125  0.408371\n",
      "\n"
     ]
    },
    {
     "data": {
      "text/markdown": [
       "## Text Metadata Check"
      ],
      "text/plain": [
       "<IPython.core.display.Markdown object>"
      ]
     },
     "metadata": {},
     "output_type": "display_data"
    },
    {
     "name": "stdout",
     "output_type": "stream",
     "text": [
      "Examined Columns: ['description']\n",
      "Shifted Columns: []\n",
      "\n",
      "'test_results':\n",
      "column      description                    \n",
      "metadata distinct_words num_chars num_words\n",
      "pvalue              1.0       1.0       1.0\n",
      "\n"
     ]
    }
   ],
   "source": [
    "detector.evaluate()"
   ]
  },
  {
   "cell_type": "code",
   "execution_count": 6,
   "metadata": {
    "ExecuteTime": {
     "end_time": "2019-06-18T07:54:47.694693Z",
     "start_time": "2019-06-18T07:54:47.692965Z"
    }
   },
   "outputs": [],
   "source": [
    "# from IPython.display import Markdown, display\n",
    "# def printmd(string):\n",
    "#     display(Markdown(string))\n",
    "\n",
    "# printmd(\"**bold text**\")\n",
    "# printmd(\"<span style='color:red'>Red text</span>\")\n"
   ]
  },
  {
   "cell_type": "code",
   "execution_count": 7,
   "metadata": {
    "ExecuteTime": {
     "end_time": "2019-06-18T07:54:47.698938Z",
     "start_time": "2019-06-18T07:54:47.696018Z"
    }
   },
   "outputs": [
    {
     "name": "stdout",
     "output_type": "stream",
     "text": [
      "True\n"
     ]
    }
   ],
   "source": [
    "import sys\n",
    "print('ipykernel' in sys.modules)"
   ]
  },
  {
   "cell_type": "code",
   "execution_count": null,
   "metadata": {},
   "outputs": [],
   "source": []
  }
 ],
 "metadata": {
  "kernelspec": {
   "display_name": "Python 3",
   "language": "python",
   "name": "python3"
  },
  "language_info": {
   "codemirror_mode": {
    "name": "ipython",
    "version": 3
   },
   "file_extension": ".py",
   "mimetype": "text/x-python",
   "name": "python",
   "nbconvert_exporter": "python",
   "pygments_lexer": "ipython3",
   "version": "3.7.2"
  },
  "varInspector": {
   "cols": {
    "lenName": 16,
    "lenType": 16,
    "lenVar": 40
   },
   "kernels_config": {
    "python": {
     "delete_cmd_postfix": "",
     "delete_cmd_prefix": "del ",
     "library": "var_list.py",
     "varRefreshCmd": "print(var_dic_list())"
    },
    "r": {
     "delete_cmd_postfix": ") ",
     "delete_cmd_prefix": "rm(",
     "library": "var_list.r",
     "varRefreshCmd": "cat(var_dic_list()) "
    }
   },
   "types_to_exclude": [
    "module",
    "function",
    "builtin_function_or_method",
    "instance",
    "_Feature"
   ],
   "window_display": false
  }
 },
 "nbformat": 4,
 "nbformat_minor": 2
}
