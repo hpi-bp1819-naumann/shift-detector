{
 "cells": [
  {
   "cell_type": "code",
   "execution_count": 1,
   "metadata": {
    "ExecuteTime": {
     "end_time": "2019-07-05T15:39:09.525460Z",
     "start_time": "2019-07-05T15:39:06.930041Z"
    }
   },
   "outputs": [
    {
     "name": "stderr",
     "output_type": "stream",
     "text": [
      "2019-07-05 17:39:08,576 [INFO]  'pattern' package not found; tag filters are not available for English\n",
      "Using TensorFlow backend.\n",
      "WARNING: Logging before flag parsing goes to stderr.\n",
      "W0705 17:39:09.434209 140736180102016 deprecation_wrapper.py:119] From /Users/pzimme/Documents/projects/deequ/shift-detector/shift_detector/precalculations/word_prediction_precalculation.py:12: The name tf.set_random_seed is deprecated. Please use tf.compat.v1.set_random_seed instead.\n",
      "\n"
     ]
    }
   ],
   "source": [
    "import shift_detector\n",
    "from shift_detector.detector import Detector\n",
    "from shift_detector.checks.dq_metrics_check import DQMetricsCheck\n",
    "from shift_detector.checks.distinction_check import DistinctionCheck\n",
    "from shift_detector.checks.sorensen_dice_check import SorensenDiceCheck\n",
    "from shift_detector.checks.conditional_probabilities_check import ConditionalProbabilitiesCheck\n",
    "from shift_detector.checks.embedding_distance_check import EmbeddingDistanceCheck\n",
    "from shift_detector.checks.word_prediction_check import WordPredictionCheck\n",
    "from shift_detector.checks.statistical_checks.numerical_statistical_check import NumericalStatisticalCheck\n",
    "from shift_detector.checks.statistical_checks.categorical_statistical_check import CategoricalStatisticalCheck\n",
    "from shift_detector.checks.statistical_checks.text_metadata_statistical_check import TextMetadataStatisticalCheck\n",
    "from shift_detector.checks.lda_check import LdaCheck"
   ]
  },
  {
   "cell_type": "code",
   "execution_count": 2,
   "metadata": {
    "ExecuteTime": {
     "end_time": "2019-07-05T15:39:09.537308Z",
     "start_time": "2019-07-05T15:39:09.527061Z"
    },
    "scrolled": true
   },
   "outputs": [],
   "source": [
    "import pandas as pd\n",
    "df = pd.read_csv('./data/pokedex.csv')\n",
    "\n",
    "# double df\n",
    "# df = pd.concat([df, df], axis=1)\n",
    "# new_cols = []\n",
    "# for i in range(len(df.columns)):\n",
    "#     new_cols.append(df.columns[i] + '_' + str(i))\n",
    "# df.columns = new_cols\n",
    "\n",
    "df1 = df.head(300)\n",
    "df2 = df.tail(721-300)"
   ]
  },
  {
   "cell_type": "code",
   "execution_count": 3,
   "metadata": {
    "ExecuteTime": {
     "end_time": "2019-07-05T15:39:09.541417Z",
     "start_time": "2019-07-05T15:39:09.539015Z"
    },
    "scrolled": true
   },
   "outputs": [],
   "source": [
    "# df1.loc[df['#'] > 49, '#'] = None\n",
    "# df1"
   ]
  },
  {
   "cell_type": "code",
   "execution_count": null,
   "metadata": {
    "ExecuteTime": {
     "end_time": "2019-06-25T15:02:48.250087Z",
     "start_time": "2019-06-25T15:02:48.221412Z"
    },
    "scrolled": false
   },
   "outputs": [],
   "source": []
  },
  {
   "cell_type": "code",
   "execution_count": 4,
   "metadata": {
    "ExecuteTime": {
     "end_time": "2019-07-05T15:39:09.572832Z",
     "start_time": "2019-07-05T15:39:09.543173Z"
    }
   },
   "outputs": [
    {
     "name": "stdout",
     "output_type": "stream",
     "text": [
      "Numerical columns: HP, Sp. Atk, #, Sp. Def, Attack, Speed, Total, Defense\n",
      "Categorical columns: Legendary, Generation, Type 2, Type 1\n",
      "Text columns: Name, Entry\n",
      "Used columns: #, Name, Type 1, Type 2, Total, HP, Attack, Defense, Sp. Atk, Sp. Def, Speed, Generation, Legendary, Entry\n"
     ]
    }
   ],
   "source": [
    "from shift_detector.utils.column_management import ColumnType\n",
    "custom_column_types = {\n",
    "    'Legendary': ColumnType.categorical,\n",
    "    'Type 1': ColumnType.categorical,\n",
    "    'Type 2': ColumnType.categorical,\n",
    "    'Generation': ColumnType.categorical,\n",
    "}\n",
    "detector = Detector(df1, df2, **custom_column_types)"
   ]
  },
  {
   "cell_type": "code",
   "execution_count": 5,
   "metadata": {
    "ExecuteTime": {
     "end_time": "2019-07-05T15:39:09.577909Z",
     "start_time": "2019-07-05T15:39:09.574881Z"
    }
   },
   "outputs": [],
   "source": [
    "dqm = DQMetricsCheck(check_language_metadata=True)"
   ]
  },
  {
   "cell_type": "code",
   "execution_count": 6,
   "metadata": {
    "ExecuteTime": {
     "end_time": "2019-07-05T15:39:10.071884Z",
     "start_time": "2019-07-05T15:39:09.579592Z"
    },
    "scrolled": true
   },
   "outputs": [
    {
     "name": "stdout",
     "output_type": "stream",
     "text": [
      "Executing DQMetricsCheck\n",
      "- Executing DQMetricsPrecalculation\n",
      "- Executing TextMetadata\n",
      "- Executing NumCharsMetadata\n",
      "- Executing NumWordsMetadata\n",
      "- Executing TokenizeIntoLowerWordsPrecalculation\n",
      "- Executing DistinctWordsRatioMetadata\n",
      "- Use already executed TokenizeIntoLowerWordsPrecalculation\n",
      "- Executing LowCardinalityPrecalculation\n"
     ]
    }
   ],
   "source": [
    "detector.run(dqm)"
   ]
  },
  {
   "cell_type": "code",
   "execution_count": 7,
   "metadata": {
    "ExecuteTime": {
     "end_time": "2019-07-05T15:39:11.566795Z",
     "start_time": "2019-07-05T15:39:10.073832Z"
    },
    "scrolled": false
   },
   "outputs": [
    {
     "data": {
      "text/markdown": [
       "# OVERVIEW"
      ],
      "text/plain": [
       "<IPython.core.display.Markdown object>"
      ]
     },
     "metadata": {},
     "output_type": "display_data"
    },
    {
     "data": {
      "text/plain": [
       "'Executed 1 check'"
      ]
     },
     "metadata": {},
     "output_type": "display_data"
    },
    {
     "data": {
      "text/html": [
       "<div>\n",
       "<style scoped>\n",
       "    .dataframe tbody tr th:only-of-type {\n",
       "        vertical-align: middle;\n",
       "    }\n",
       "\n",
       "    .dataframe tbody tr th {\n",
       "        vertical-align: top;\n",
       "    }\n",
       "\n",
       "    .dataframe thead th {\n",
       "        text-align: right;\n",
       "    }\n",
       "</style>\n",
       "<table border=\"1\" class=\"dataframe\">\n",
       "  <thead>\n",
       "    <tr style=\"text-align: right;\">\n",
       "      <th></th>\n",
       "      <th>Column</th>\n",
       "      <th># Shifts detected</th>\n",
       "      <th># Checks Executed</th>\n",
       "    </tr>\n",
       "  </thead>\n",
       "  <tbody>\n",
       "    <tr>\n",
       "      <th>0</th>\n",
       "      <td>HP</td>\n",
       "      <td>1</td>\n",
       "      <td>1</td>\n",
       "    </tr>\n",
       "    <tr>\n",
       "      <th>1</th>\n",
       "      <td>Sp. Atk</td>\n",
       "      <td>1</td>\n",
       "      <td>1</td>\n",
       "    </tr>\n",
       "    <tr>\n",
       "      <th>2</th>\n",
       "      <td>Type 2</td>\n",
       "      <td>1</td>\n",
       "      <td>1</td>\n",
       "    </tr>\n",
       "    <tr>\n",
       "      <th>3</th>\n",
       "      <td>#</td>\n",
       "      <td>1</td>\n",
       "      <td>1</td>\n",
       "    </tr>\n",
       "    <tr>\n",
       "      <th>4</th>\n",
       "      <td>Generation</td>\n",
       "      <td>1</td>\n",
       "      <td>1</td>\n",
       "    </tr>\n",
       "    <tr>\n",
       "      <th>5</th>\n",
       "      <td>Type 1</td>\n",
       "      <td>1</td>\n",
       "      <td>1</td>\n",
       "    </tr>\n",
       "    <tr>\n",
       "      <th>6</th>\n",
       "      <td>Entry</td>\n",
       "      <td>1</td>\n",
       "      <td>1</td>\n",
       "    </tr>\n",
       "    <tr>\n",
       "      <th>7</th>\n",
       "      <td>Name</td>\n",
       "      <td>1</td>\n",
       "      <td>1</td>\n",
       "    </tr>\n",
       "    <tr>\n",
       "      <th>8</th>\n",
       "      <td>Legendary</td>\n",
       "      <td>1</td>\n",
       "      <td>1</td>\n",
       "    </tr>\n",
       "    <tr>\n",
       "      <th>9</th>\n",
       "      <td>Attack</td>\n",
       "      <td>0</td>\n",
       "      <td>1</td>\n",
       "    </tr>\n",
       "    <tr>\n",
       "      <th>10</th>\n",
       "      <td>Sp. Def</td>\n",
       "      <td>0</td>\n",
       "      <td>1</td>\n",
       "    </tr>\n",
       "    <tr>\n",
       "      <th>11</th>\n",
       "      <td>Speed</td>\n",
       "      <td>0</td>\n",
       "      <td>1</td>\n",
       "    </tr>\n",
       "    <tr>\n",
       "      <th>12</th>\n",
       "      <td>Total</td>\n",
       "      <td>0</td>\n",
       "      <td>1</td>\n",
       "    </tr>\n",
       "    <tr>\n",
       "      <th>13</th>\n",
       "      <td>Defense</td>\n",
       "      <td>0</td>\n",
       "      <td>1</td>\n",
       "    </tr>\n",
       "  </tbody>\n",
       "</table>\n",
       "</div>"
      ],
      "text/plain": [
       "        Column  # Shifts detected  # Checks Executed\n",
       "0           HP                  1                  1\n",
       "1      Sp. Atk                  1                  1\n",
       "2       Type 2                  1                  1\n",
       "3            #                  1                  1\n",
       "4   Generation                  1                  1\n",
       "5       Type 1                  1                  1\n",
       "6        Entry                  1                  1\n",
       "7         Name                  1                  1\n",
       "8    Legendary                  1                  1\n",
       "9       Attack                  0                  1\n",
       "10     Sp. Def                  0                  1\n",
       "11       Speed                  0                  1\n",
       "12       Total                  0                  1\n",
       "13     Defense                  0                  1"
      ]
     },
     "metadata": {},
     "output_type": "display_data"
    },
    {
     "data": {
      "text/markdown": [
       "# DETAILS"
      ],
      "text/plain": [
       "<IPython.core.display.Markdown object>"
      ]
     },
     "metadata": {},
     "output_type": "display_data"
    },
    {
     "data": {
      "text/markdown": [
       "## DQ Metrics Check"
      ],
      "text/plain": [
       "<IPython.core.display.Markdown object>"
      ]
     },
     "metadata": {},
     "output_type": "display_data"
    },
    {
     "name": "stdout",
     "output_type": "stream",
     "text": [
      "Examined Columns: ['HP', 'Sp. Atk', 'Type 2', '#', 'Attack', 'Sp. Def', 'Speed', 'Generation', 'Total', 'Type 1', 'Entry', 'Defense', 'Name', 'Legendary']\n",
      "Shifted Columns: ['HP', 'Sp. Atk', 'Type 2', '#', 'Generation', 'Type 1', 'Entry', 'Name', 'Legendary']\n",
      "\n"
     ]
    },
    {
     "data": {
      "text/markdown": [
       "### Numerical Columns"
      ],
      "text/plain": [
       "<IPython.core.display.Markdown object>"
      ]
     },
     "metadata": {},
     "output_type": "display_data"
    },
    {
     "name": "stdout",
     "output_type": "stream",
     "text": [
      "Column '#':\n"
     ]
    },
    {
     "data": {
      "text/html": [
       "<div>\n",
       "<style scoped>\n",
       "    .dataframe tbody tr th:only-of-type {\n",
       "        vertical-align: middle;\n",
       "    }\n",
       "\n",
       "    .dataframe tbody tr th {\n",
       "        vertical-align: top;\n",
       "    }\n",
       "\n",
       "    .dataframe thead th {\n",
       "        text-align: right;\n",
       "    }\n",
       "</style>\n",
       "<table border=\"1\" class=\"dataframe\">\n",
       "  <thead>\n",
       "    <tr style=\"text-align: right;\">\n",
       "      <th></th>\n",
       "      <th>Metric</th>\n",
       "      <th>Val in DS1</th>\n",
       "      <th>Val in DS2</th>\n",
       "      <th>Threshold</th>\n",
       "      <th>Relative Diff</th>\n",
       "    </tr>\n",
       "  </thead>\n",
       "  <tbody>\n",
       "    <tr>\n",
       "      <th>0</th>\n",
       "      <td>mean</td>\n",
       "      <td>150.50</td>\n",
       "      <td>511.00</td>\n",
       "      <td>+/- 15.0 %</td>\n",
       "      <td>+239.53 %</td>\n",
       "    </tr>\n",
       "    <tr>\n",
       "      <th>1</th>\n",
       "      <td>median</td>\n",
       "      <td>150.50</td>\n",
       "      <td>511.00</td>\n",
       "      <td>+/- 15.0 %</td>\n",
       "      <td>+239.53 %</td>\n",
       "    </tr>\n",
       "    <tr>\n",
       "      <th>2</th>\n",
       "      <td>quartile_1</td>\n",
       "      <td>75.75</td>\n",
       "      <td>406.00</td>\n",
       "      <td>+/- 20.0 %</td>\n",
       "      <td>+435.97 %</td>\n",
       "    </tr>\n",
       "    <tr>\n",
       "      <th>3</th>\n",
       "      <td>quartile_3</td>\n",
       "      <td>225.25</td>\n",
       "      <td>616.00</td>\n",
       "      <td>+/- 20.0 %</td>\n",
       "      <td>+173.47 %</td>\n",
       "    </tr>\n",
       "    <tr>\n",
       "      <th>4</th>\n",
       "      <td>std</td>\n",
       "      <td>86.75</td>\n",
       "      <td>121.68</td>\n",
       "      <td>+/- 25.0 %</td>\n",
       "      <td>+40.27 %</td>\n",
       "    </tr>\n",
       "  </tbody>\n",
       "</table>\n",
       "</div>"
      ],
      "text/plain": [
       "       Metric  Val in DS1  Val in DS2   Threshold Relative Diff\n",
       "0        mean      150.50      511.00  +/- 15.0 %     +239.53 %\n",
       "1      median      150.50      511.00  +/- 15.0 %     +239.53 %\n",
       "2  quartile_1       75.75      406.00  +/- 20.0 %     +435.97 %\n",
       "3  quartile_3      225.25      616.00  +/- 20.0 %     +173.47 %\n",
       "4         std       86.75      121.68  +/- 25.0 %      +40.27 %"
      ]
     },
     "metadata": {},
     "output_type": "display_data"
    },
    {
     "name": "stdout",
     "output_type": "stream",
     "text": [
      "\n",
      "\n",
      "Column 'HP':\n"
     ]
    },
    {
     "data": {
      "text/html": [
       "<div>\n",
       "<style scoped>\n",
       "    .dataframe tbody tr th:only-of-type {\n",
       "        vertical-align: middle;\n",
       "    }\n",
       "\n",
       "    .dataframe tbody tr th {\n",
       "        vertical-align: top;\n",
       "    }\n",
       "\n",
       "    .dataframe thead th {\n",
       "        text-align: right;\n",
       "    }\n",
       "</style>\n",
       "<table border=\"1\" class=\"dataframe\">\n",
       "  <thead>\n",
       "    <tr style=\"text-align: right;\">\n",
       "      <th></th>\n",
       "      <th>Metric</th>\n",
       "      <th>Val in DS1</th>\n",
       "      <th>Val in DS2</th>\n",
       "      <th>Threshold</th>\n",
       "      <th>Relative Diff</th>\n",
       "    </tr>\n",
       "  </thead>\n",
       "  <tbody>\n",
       "    <tr>\n",
       "      <th>0</th>\n",
       "      <td>quartile_1</td>\n",
       "      <td>45.75</td>\n",
       "      <td>55.0</td>\n",
       "      <td>+/- 20.0 %</td>\n",
       "      <td>+20.22 %</td>\n",
       "    </tr>\n",
       "  </tbody>\n",
       "</table>\n",
       "</div>"
      ],
      "text/plain": [
       "       Metric  Val in DS1  Val in DS2   Threshold Relative Diff\n",
       "0  quartile_1       45.75        55.0  +/- 20.0 %      +20.22 %"
      ]
     },
     "metadata": {},
     "output_type": "display_data"
    },
    {
     "name": "stdout",
     "output_type": "stream",
     "text": [
      "\n",
      "\n",
      "Column 'Sp. Atk':\n"
     ]
    },
    {
     "data": {
      "text/html": [
       "<div>\n",
       "<style scoped>\n",
       "    .dataframe tbody tr th:only-of-type {\n",
       "        vertical-align: middle;\n",
       "    }\n",
       "\n",
       "    .dataframe tbody tr th {\n",
       "        vertical-align: top;\n",
       "    }\n",
       "\n",
       "    .dataframe thead th {\n",
       "        text-align: right;\n",
       "    }\n",
       "</style>\n",
       "<table border=\"1\" class=\"dataframe\">\n",
       "  <thead>\n",
       "    <tr style=\"text-align: right;\">\n",
       "      <th></th>\n",
       "      <th>Metric</th>\n",
       "      <th>Val in DS1</th>\n",
       "      <th>Val in DS2</th>\n",
       "      <th>Threshold</th>\n",
       "      <th>Relative Diff</th>\n",
       "    </tr>\n",
       "  </thead>\n",
       "  <tbody>\n",
       "    <tr>\n",
       "      <th>0</th>\n",
       "      <td>quartile_1</td>\n",
       "      <td>40.0</td>\n",
       "      <td>50.0</td>\n",
       "      <td>+/- 20.0 %</td>\n",
       "      <td>+25.0 %</td>\n",
       "    </tr>\n",
       "  </tbody>\n",
       "</table>\n",
       "</div>"
      ],
      "text/plain": [
       "       Metric  Val in DS1  Val in DS2   Threshold Relative Diff\n",
       "0  quartile_1        40.0        50.0  +/- 20.0 %       +25.0 %"
      ]
     },
     "metadata": {},
     "output_type": "display_data"
    },
    {
     "name": "stdout",
     "output_type": "stream",
     "text": [
      "\n",
      "\n",
      "Column 'Generation':\n"
     ]
    },
    {
     "data": {
      "text/html": [
       "<div>\n",
       "<style scoped>\n",
       "    .dataframe tbody tr th:only-of-type {\n",
       "        vertical-align: middle;\n",
       "    }\n",
       "\n",
       "    .dataframe tbody tr th {\n",
       "        vertical-align: top;\n",
       "    }\n",
       "\n",
       "    .dataframe thead th {\n",
       "        text-align: right;\n",
       "    }\n",
       "</style>\n",
       "<table border=\"1\" class=\"dataframe\">\n",
       "  <thead>\n",
       "    <tr style=\"text-align: right;\">\n",
       "      <th></th>\n",
       "      <th>Metric</th>\n",
       "      <th>Val in DS1</th>\n",
       "      <th>Val in DS2</th>\n",
       "      <th>Threshold</th>\n",
       "      <th>Relative Diff</th>\n",
       "    </tr>\n",
       "  </thead>\n",
       "  <tbody>\n",
       "    <tr>\n",
       "      <th>0</th>\n",
       "      <td>num_distinct</td>\n",
       "      <td>3</td>\n",
       "      <td>4</td>\n",
       "      <td>+/- 20.0 %</td>\n",
       "      <td>+33.33 %</td>\n",
       "    </tr>\n",
       "  </tbody>\n",
       "</table>\n",
       "</div>"
      ],
      "text/plain": [
       "         Metric  Val in DS1  Val in DS2   Threshold Relative Diff\n",
       "0  num_distinct           3           4  +/- 20.0 %      +33.33 %"
      ]
     },
     "metadata": {},
     "output_type": "display_data"
    },
    {
     "name": "stdout",
     "output_type": "stream",
     "text": [
      "\n",
      "\n"
     ]
    },
    {
     "data": {
      "text/markdown": [
       "### Categorical Columns"
      ],
      "text/plain": [
       "<IPython.core.display.Markdown object>"
      ]
     },
     "metadata": {},
     "output_type": "display_data"
    },
    {
     "name": "stdout",
     "output_type": "stream",
     "text": [
      "Attribute 'Generation':\n"
     ]
    },
    {
     "data": {
      "text/html": [
       "<div>\n",
       "<style scoped>\n",
       "    .dataframe tbody tr th:only-of-type {\n",
       "        vertical-align: middle;\n",
       "    }\n",
       "\n",
       "    .dataframe tbody tr th {\n",
       "        vertical-align: top;\n",
       "    }\n",
       "\n",
       "    .dataframe thead th {\n",
       "        text-align: right;\n",
       "    }\n",
       "</style>\n",
       "<table border=\"1\" class=\"dataframe\">\n",
       "  <thead>\n",
       "    <tr style=\"text-align: right;\">\n",
       "      <th></th>\n",
       "      <th>Attribute Value</th>\n",
       "      <th>Val in DS1</th>\n",
       "      <th>Val in DS2</th>\n",
       "      <th>Threshold</th>\n",
       "      <th>Relative Diff</th>\n",
       "    </tr>\n",
       "  </thead>\n",
       "  <tbody>\n",
       "    <tr>\n",
       "      <th>0</th>\n",
       "      <td>1</td>\n",
       "      <td>0.50</td>\n",
       "      <td>0</td>\n",
       "      <td>+/- 5.0 %</td>\n",
       "      <td>+50.33 %</td>\n",
       "    </tr>\n",
       "    <tr>\n",
       "      <th>1</th>\n",
       "      <td>2</td>\n",
       "      <td>0.33</td>\n",
       "      <td>0</td>\n",
       "      <td>+/- 5.0 %</td>\n",
       "      <td>+33.33 %</td>\n",
       "    </tr>\n",
       "  </tbody>\n",
       "</table>\n",
       "</div>"
      ],
      "text/plain": [
       "  Attribute Value  Val in DS1  Val in DS2  Threshold Relative Diff\n",
       "0               1        0.50           0  +/- 5.0 %      +50.33 %\n",
       "1               2        0.33           0  +/- 5.0 %      +33.33 %"
      ]
     },
     "metadata": {},
     "output_type": "display_data"
    },
    {
     "name": "stdout",
     "output_type": "stream",
     "text": [
      "\n",
      "\n",
      "Attribute 'Legendary':\n"
     ]
    },
    {
     "data": {
      "text/html": [
       "<div>\n",
       "<style scoped>\n",
       "    .dataframe tbody tr th:only-of-type {\n",
       "        vertical-align: middle;\n",
       "    }\n",
       "\n",
       "    .dataframe tbody tr th {\n",
       "        vertical-align: top;\n",
       "    }\n",
       "\n",
       "    .dataframe thead th {\n",
       "        text-align: right;\n",
       "    }\n",
       "</style>\n",
       "<table border=\"1\" class=\"dataframe\">\n",
       "  <thead>\n",
       "    <tr style=\"text-align: right;\">\n",
       "      <th></th>\n",
       "      <th>Attribute Value</th>\n",
       "      <th>Val in DS1</th>\n",
       "      <th>Val in DS2</th>\n",
       "      <th>Threshold</th>\n",
       "      <th>Relative Diff</th>\n",
       "    </tr>\n",
       "  </thead>\n",
       "  <tbody>\n",
       "    <tr>\n",
       "      <th>0</th>\n",
       "      <td>False</td>\n",
       "      <td>0.97</td>\n",
       "      <td>0.91</td>\n",
       "      <td>+/- 5.0 %</td>\n",
       "      <td>+5.79 %</td>\n",
       "    </tr>\n",
       "  </tbody>\n",
       "</table>\n",
       "</div>"
      ],
      "text/plain": [
       "  Attribute Value  Val in DS1  Val in DS2  Threshold Relative Diff\n",
       "0           False        0.97        0.91  +/- 5.0 %       +5.79 %"
      ]
     },
     "metadata": {},
     "output_type": "display_data"
    },
    {
     "name": "stdout",
     "output_type": "stream",
     "text": [
      "\n",
      "\n",
      "Attribute 'Type 1':\n"
     ]
    },
    {
     "data": {
      "text/html": [
       "<div>\n",
       "<style scoped>\n",
       "    .dataframe tbody tr th:only-of-type {\n",
       "        vertical-align: middle;\n",
       "    }\n",
       "\n",
       "    .dataframe tbody tr th {\n",
       "        vertical-align: top;\n",
       "    }\n",
       "\n",
       "    .dataframe thead th {\n",
       "        text-align: right;\n",
       "    }\n",
       "</style>\n",
       "<table border=\"1\" class=\"dataframe\">\n",
       "  <thead>\n",
       "    <tr style=\"text-align: right;\">\n",
       "      <th></th>\n",
       "      <th>Attribute Value</th>\n",
       "      <th>Val in DS1</th>\n",
       "      <th>Val in DS2</th>\n",
       "      <th>Threshold</th>\n",
       "      <th>Relative Diff</th>\n",
       "    </tr>\n",
       "  </thead>\n",
       "  <tbody>\n",
       "    <tr>\n",
       "      <th>0</th>\n",
       "      <td>Water</td>\n",
       "      <td>0.18</td>\n",
       "      <td>0.12</td>\n",
       "      <td>+/- 5.0 %</td>\n",
       "      <td>+5.89 %</td>\n",
       "    </tr>\n",
       "    <tr>\n",
       "      <th>1</th>\n",
       "      <td>Normal</td>\n",
       "      <td>0.16</td>\n",
       "      <td>0.10</td>\n",
       "      <td>+/- 5.0 %</td>\n",
       "      <td>+5.88 %</td>\n",
       "    </tr>\n",
       "  </tbody>\n",
       "</table>\n",
       "</div>"
      ],
      "text/plain": [
       "  Attribute Value  Val in DS1  Val in DS2  Threshold Relative Diff\n",
       "0           Water        0.18        0.12  +/- 5.0 %       +5.89 %\n",
       "1          Normal        0.16        0.10  +/- 5.0 %       +5.88 %"
      ]
     },
     "metadata": {},
     "output_type": "display_data"
    },
    {
     "name": "stdout",
     "output_type": "stream",
     "text": [
      "\n",
      "\n",
      "Attribute 'Type 2':\n"
     ]
    },
    {
     "data": {
      "text/html": [
       "<div>\n",
       "<style scoped>\n",
       "    .dataframe tbody tr th:only-of-type {\n",
       "        vertical-align: middle;\n",
       "    }\n",
       "\n",
       "    .dataframe tbody tr th {\n",
       "        vertical-align: top;\n",
       "    }\n",
       "\n",
       "    .dataframe thead th {\n",
       "        text-align: right;\n",
       "    }\n",
       "</style>\n",
       "<table border=\"1\" class=\"dataframe\">\n",
       "  <thead>\n",
       "    <tr style=\"text-align: right;\">\n",
       "      <th></th>\n",
       "      <th>Attribute Value</th>\n",
       "      <th>Val in DS1</th>\n",
       "      <th>Val in DS2</th>\n",
       "      <th>Threshold</th>\n",
       "      <th>Relative Diff</th>\n",
       "    </tr>\n",
       "  </thead>\n",
       "  <tbody>\n",
       "    <tr>\n",
       "      <th>0</th>\n",
       "      <td>Flying</td>\n",
       "      <td>0.15</td>\n",
       "      <td>0.10</td>\n",
       "      <td>+/- 5.0 %</td>\n",
       "      <td>+5.02 %</td>\n",
       "    </tr>\n",
       "    <tr>\n",
       "      <th>1</th>\n",
       "      <td>Poison</td>\n",
       "      <td>0.08</td>\n",
       "      <td>0.02</td>\n",
       "      <td>+/- 5.0 %</td>\n",
       "      <td>+5.77 %</td>\n",
       "    </tr>\n",
       "  </tbody>\n",
       "</table>\n",
       "</div>"
      ],
      "text/plain": [
       "  Attribute Value  Val in DS1  Val in DS2  Threshold Relative Diff\n",
       "0          Flying        0.15        0.10  +/- 5.0 %       +5.02 %\n",
       "1          Poison        0.08        0.02  +/- 5.0 %       +5.77 %"
      ]
     },
     "metadata": {},
     "output_type": "display_data"
    },
    {
     "name": "stdout",
     "output_type": "stream",
     "text": [
      "\n",
      "\n"
     ]
    },
    {
     "data": {
      "text/markdown": [
       "### Text Metadata"
      ],
      "text/plain": [
       "<IPython.core.display.Markdown object>"
      ]
     },
     "metadata": {},
     "output_type": "display_data"
    },
    {
     "name": "stdout",
     "output_type": "stream",
     "text": [
      "Column 'Entry':\n"
     ]
    },
    {
     "data": {
      "text/html": [
       "<div>\n",
       "<style scoped>\n",
       "    .dataframe tbody tr th:only-of-type {\n",
       "        vertical-align: middle;\n",
       "    }\n",
       "\n",
       "    .dataframe tbody tr th {\n",
       "        vertical-align: top;\n",
       "    }\n",
       "\n",
       "    .dataframe thead th {\n",
       "        text-align: right;\n",
       "    }\n",
       "</style>\n",
       "<table border=\"1\" class=\"dataframe\">\n",
       "  <thead>\n",
       "    <tr style=\"text-align: right;\">\n",
       "      <th></th>\n",
       "      <th>Text Metadatum</th>\n",
       "      <th>Val in DS1</th>\n",
       "      <th>Val in DS2</th>\n",
       "      <th>Threshold</th>\n",
       "      <th>Relative Diff</th>\n",
       "    </tr>\n",
       "  </thead>\n",
       "  <tbody>\n",
       "    <tr>\n",
       "      <th>0</th>\n",
       "      <td>mean, num_chars</td>\n",
       "      <td>149.90</td>\n",
       "      <td>117.11</td>\n",
       "      <td>+/- 15.0 %</td>\n",
       "      <td>-21.88 %</td>\n",
       "    </tr>\n",
       "    <tr>\n",
       "      <th>1</th>\n",
       "      <td>median, num_chars</td>\n",
       "      <td>142.50</td>\n",
       "      <td>113.00</td>\n",
       "      <td>+/- 15.0 %</td>\n",
       "      <td>-20.7 %</td>\n",
       "    </tr>\n",
       "    <tr>\n",
       "      <th>2</th>\n",
       "      <td>quartile_3, num_chars</td>\n",
       "      <td>180.00</td>\n",
       "      <td>129.00</td>\n",
       "      <td>+/- 20.0 %</td>\n",
       "      <td>-28.33 %</td>\n",
       "    </tr>\n",
       "    <tr>\n",
       "      <th>3</th>\n",
       "      <td>std, num_chars</td>\n",
       "      <td>34.62</td>\n",
       "      <td>25.69</td>\n",
       "      <td>+/- 25.0 %</td>\n",
       "      <td>-25.8 %</td>\n",
       "    </tr>\n",
       "    <tr>\n",
       "      <th>4</th>\n",
       "      <td>mean, num_words</td>\n",
       "      <td>26.39</td>\n",
       "      <td>20.85</td>\n",
       "      <td>+/- 15.0 %</td>\n",
       "      <td>-21.0 %</td>\n",
       "    </tr>\n",
       "    <tr>\n",
       "      <th>5</th>\n",
       "      <td>median, num_words</td>\n",
       "      <td>26.00</td>\n",
       "      <td>20.00</td>\n",
       "      <td>+/- 15.0 %</td>\n",
       "      <td>-23.08 %</td>\n",
       "    </tr>\n",
       "    <tr>\n",
       "      <th>6</th>\n",
       "      <td>quartile_3, num_words</td>\n",
       "      <td>31.00</td>\n",
       "      <td>23.00</td>\n",
       "      <td>+/- 20.0 %</td>\n",
       "      <td>-25.81 %</td>\n",
       "    </tr>\n",
       "  </tbody>\n",
       "</table>\n",
       "</div>"
      ],
      "text/plain": [
       "          Text Metadatum  Val in DS1  Val in DS2   Threshold Relative Diff\n",
       "0        mean, num_chars      149.90      117.11  +/- 15.0 %      -21.88 %\n",
       "1      median, num_chars      142.50      113.00  +/- 15.0 %       -20.7 %\n",
       "2  quartile_3, num_chars      180.00      129.00  +/- 20.0 %      -28.33 %\n",
       "3         std, num_chars       34.62       25.69  +/- 25.0 %       -25.8 %\n",
       "4        mean, num_words       26.39       20.85  +/- 15.0 %       -21.0 %\n",
       "5      median, num_words       26.00       20.00  +/- 15.0 %      -23.08 %\n",
       "6  quartile_3, num_words       31.00       23.00  +/- 20.0 %      -25.81 %"
      ]
     },
     "metadata": {},
     "output_type": "display_data"
    },
    {
     "name": "stdout",
     "output_type": "stream",
     "text": [
      "\n",
      "\n",
      "Column 'Name':\n"
     ]
    },
    {
     "data": {
      "text/html": [
       "<div>\n",
       "<style scoped>\n",
       "    .dataframe tbody tr th:only-of-type {\n",
       "        vertical-align: middle;\n",
       "    }\n",
       "\n",
       "    .dataframe tbody tr th {\n",
       "        vertical-align: top;\n",
       "    }\n",
       "\n",
       "    .dataframe thead th {\n",
       "        text-align: right;\n",
       "    }\n",
       "</style>\n",
       "<table border=\"1\" class=\"dataframe\">\n",
       "  <thead>\n",
       "    <tr style=\"text-align: right;\">\n",
       "      <th></th>\n",
       "      <th>Text Metadatum</th>\n",
       "      <th>Val in DS1</th>\n",
       "      <th>Val in DS2</th>\n",
       "      <th>Threshold</th>\n",
       "      <th>Relative Diff</th>\n",
       "    </tr>\n",
       "  </thead>\n",
       "  <tbody>\n",
       "    <tr>\n",
       "      <th>0</th>\n",
       "      <td>value_range, num_chars</td>\n",
       "      <td>7.00</td>\n",
       "      <td>20.00</td>\n",
       "      <td>+/- 50.0 %</td>\n",
       "      <td>+185.71 %</td>\n",
       "    </tr>\n",
       "    <tr>\n",
       "      <th>1</th>\n",
       "      <td>std, num_chars</td>\n",
       "      <td>1.43</td>\n",
       "      <td>2.75</td>\n",
       "      <td>+/- 25.0 %</td>\n",
       "      <td>+92.42 %</td>\n",
       "    </tr>\n",
       "    <tr>\n",
       "      <th>2</th>\n",
       "      <td>std, num_words</td>\n",
       "      <td>0.08</td>\n",
       "      <td>0.20</td>\n",
       "      <td>+/- 25.0 %</td>\n",
       "      <td>+141.78 %</td>\n",
       "    </tr>\n",
       "  </tbody>\n",
       "</table>\n",
       "</div>"
      ],
      "text/plain": [
       "           Text Metadatum  Val in DS1  Val in DS2   Threshold Relative Diff\n",
       "0  value_range, num_chars        7.00       20.00  +/- 50.0 %     +185.71 %\n",
       "1          std, num_chars        1.43        2.75  +/- 25.0 %      +92.42 %\n",
       "2          std, num_words        0.08        0.20  +/- 25.0 %     +141.78 %"
      ]
     },
     "metadata": {},
     "output_type": "display_data"
    },
    {
     "name": "stdout",
     "output_type": "stream",
     "text": [
      "\n",
      "\n",
      "\n"
     ]
    },
    {
     "name": "stderr",
     "output_type": "stream",
     "text": [
      "/usr/local/lib/python3.7/site-packages/matplotlib/cbook/__init__.py:2349: DeprecationWarning: Using or importing the ABCs from 'collections' instead of from 'collections.abc' is deprecated, and in 3.8 it will stop working\n",
      "  if isinstance(obj, collections.Iterator):\n",
      "/usr/local/lib/python3.7/site-packages/matplotlib/cbook/__init__.py:2366: DeprecationWarning: Using or importing the ABCs from 'collections' instead of from 'collections.abc' is deprecated, and in 3.8 it will stop working\n",
      "  return list(data) if isinstance(data, collections.MappingView) else data\n"
     ]
    },
    {
     "data": {
      "image/png": "[encoded data removed]",
      "text/plain": [
       "<Figure size 1440x691.2 with 8 Axes>"
      ]
     },
     "metadata": {
      "needs_background": "light"
     },
     "output_type": "display_data"
    },
    {
     "data": {
      "image/png": "[encoded data removed]",
      "text/plain": [
       "<Figure size 1296x768 with 4 Axes>"
      ]
     },
     "metadata": {
      "needs_background": "light"
     },
     "output_type": "display_data"
    }
   ],
   "source": [
    "detector.evaluate()"
   ]
  },
  {
   "cell_type": "code",
   "execution_count": null,
   "metadata": {},
   "outputs": [],
   "source": []
  }
 ],
 "metadata": {
  "kernelspec": {
   "display_name": "Python 3",
   "language": "python",
   "name": "python3"
  },
  "language_info": {
   "codemirror_mode": {
    "name": "ipython",
    "version": 3
   },
   "file_extension": ".py",
   "mimetype": "text/x-python",
   "name": "python",
   "nbconvert_exporter": "python",
   "pygments_lexer": "ipython3",
   "version": "3.7.3"
  },
  "varInspector": {
   "cols": {
    "lenName": 16,
    "lenType": 16,
    "lenVar": 40
   },
   "kernels_config": {
    "python": {
     "delete_cmd_postfix": "",
     "delete_cmd_prefix": "del ",
     "library": "var_list.py",
     "varRefreshCmd": "print(var_dic_list())"
    },
    "r": {
     "delete_cmd_postfix": ") ",
     "delete_cmd_prefix": "rm(",
     "library": "var_list.r",
     "varRefreshCmd": "cat(var_dic_list()) "
    }
   },
   "types_to_exclude": [
    "module",
    "function",
    "builtin_function_or_method",
    "instance",
    "_Feature"
   ],
   "window_display": false
  }
 },
 "nbformat": 4,
 "nbformat_minor": 2
}
