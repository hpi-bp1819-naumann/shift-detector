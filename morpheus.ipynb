{
 "cells": [
  {
   "cell_type": "code",
   "execution_count": 1,
   "metadata": {
    "ExecuteTime": {
     "end_time": "2019-06-11T08:01:08.431771Z",
     "start_time": "2019-06-11T08:01:07.215546Z"
    }
   },
   "outputs": [],
   "source": [
    "import shift_detector\n",
    "from shift_detector.Detector import Detector\n",
    "from shift_detector.checks.SimpleCheck import SimpleCheck\n",
    "from shift_detector.checks.DistinctionCheck import DistinctionCheck\n",
    "from shift_detector.checks.SorensenDiceCheck import SorensenDiceCheck\n",
    "from shift_detector.checks.ConditionalProbabilitiesCheck import ConditionalProbabilitiesCheck"
   ]
  },
  {
   "cell_type": "code",
   "execution_count": 2,
   "metadata": {
    "ExecuteTime": {
     "end_time": "2019-06-11T08:01:08.465214Z",
     "start_time": "2019-06-11T08:01:08.434075Z"
    },
    "scrolled": true
   },
   "outputs": [
    {
     "name": "stderr",
     "output_type": "stream",
     "text": [
      "2019-06-11 15:03:00,953 [INFO]  Detected numerical columns: payment, payment2\n",
      "2019-06-11 15:03:00,956 [INFO]  Detected categorical columns: brand\n",
      "2019-06-11 15:03:00,961 [INFO]  Detected text columns: description\n",
      "2019-06-11 15:03:00,973 [INFO]  Used columns: brand, payment, payment2, description\n"
     ]
    }
   ],
   "source": [
    "import pandas as pd\n",
    "'''  \n",
    "df1 = './../train_ascii.csv'\n",
    "df1 = pd.read_csv(df1, delimiter=';').sample(100)\n",
    "df2 = './../audits_ascii.csv'\n",
    "df2 = pd.read_csv(df2, delimiter=';')\n",
    "'''\n",
    "sales = {'brand': [\"Jones LLC\", \"Alpha Co\", \"Blue Inc\", \"Blue Inc\", \"Alpha Co\",\n",
    "                   \"Jones LLC\", \"Alpha Co\", \"Blue Inc\", \"Blue Inc\", \"Alpha Co\",\n",
    "                   \"Jones LLC\"] * 10,\n",
    "         'payment': [150., 200., 50., 10., 5., 150., 200., 50., 10., 5., 1.] * 10,\n",
    "         'payment2': [15., 2., 5., 0., 5., 3., 200., 50., 10., 5., 1.] * 10,\n",
    "         'description': [\"A\", \"B\", \"C\", \"D\", \"E\", \"F\", \"G\", \"H\", \"I\", \"J\", \"K\"] * 10}\n",
    "\n",
    "sales2 = {'brand': [\"Blue Inc\", \"Alpha Co\",\n",
    "                   \"Jones LLC\", \"Alpha Co\", \"Blue Inc\", \"Blue Inc\", \"Alpha Co\",\n",
    "                   \"Jones LLC\"] * 10,\n",
    "         'payment': [10, 5, 150, 200, 50, 10, 5, 1] * 10,\n",
    "         'payment2': [15, 2, 5, 0, 5, 3, 200, 50] * 10,\n",
    "         'description': [\"D\", \"E\", \"F\", \"G\", \"H\", \"I\", \"J\", \"K\"] * 10}\n",
    "\n",
    "df1 = pd.DataFrame.from_dict(sales)\n",
    "df2 = pd.DataFrame.from_dict(sales2)\n",
    "# df2 = df1\n",
    "\n",
    "detector = Detector(df1, df2)"
   ]
  },
  {
   "cell_type": "code",
   "execution_count": 3,
   "metadata": {
    "ExecuteTime": {
     "end_time": "2019-06-11T08:01:08.475928Z",
     "start_time": "2019-06-11T08:01:08.469222Z"
    }
   },
   "outputs": [],
   "source": [
    "sc = SimpleCheck()\n",
    "dc = DistinctionCheck(num_epochs=10, relative_threshold=0.2)\n",
    "cp = ConditionalProbabilitiesCheck(min_support=0.01, min_confidence=0.01, rule_limit=10,\n",
    "                                               min_delta_supports=0.01, min_delta_confidences=0.01)\n",
    "# sdc = SorensenDiceCheck(n=1)"
   ]
  },
  {
   "cell_type": "code",
   "execution_count": 4,
   "metadata": {
    "ExecuteTime": {
     "end_time": "2019-06-11T08:01:10.986072Z",
     "start_time": "2019-06-11T08:01:08.479283Z"
    },
    "scrolled": false
   },
   "outputs": [
    {
     "name": "stderr",
     "output_type": "stream",
     "text": [
      "2019-06-11 15:03:00,990 [INFO]  Execute new Preprocessing\n",
      "2019-06-11 15:03:00,992 [INFO]  Execute new Preprocessing\n"
     ]
    }
   ],
   "source": [
    "detector.run(cp)"
   ]
  },
  {
   "cell_type": "code",
   "execution_count": 5,
   "metadata": {
    "ExecuteTime": {
     "end_time": "2019-06-11T08:01:11.384970Z",
     "start_time": "2019-06-11T08:01:10.988086Z"
    },
    "scrolled": true
   },
   "outputs": [
    {
     "name": "stdout",
     "output_type": "stream",
     "text": [
      "OVERVIEW\n",
      "     Column  # Checks Failed  # Checks Executed\n",
      "0     brand                0                  1\n",
      "1   payment                0                  1\n",
      "2  payment2                0                  1 \n",
      "\n",
      "DETAILS\n",
      "Conditional Probabilities\n",
      "Examined Columns: ['brand', 'payment', 'payment2']\n",
      "Shifted Columns: [('payment', 'payment2'), ('brand', 'payment2')]\n",
      "\n",
      "Column 'payment, payment2':\n",
      "['[ payment:5.0 payment2:5.0 ] \\nrule: PAYMENT: 5.0, PAYMENT2: 5.0 ==> () [SUPPORTS_OF_LEFT_SIDES: (0.18181818181818182, 0.0), DELTA_SUPPORTS_OF_LEFT_SIDES: 0.18181818181818182, SUPPORTS: (0.18181818181818182, 0.0), DELTA_SUPPORTS: 0.18181818181818182, CONFIDENCES: (1.0, 0.0), DELTA_CONFIDENCES: 1.0]\\nmax_delta_support: 0.18181818181818182\\t max_delta_confidence:1.0\\t number of subrules:7\\n', '[ payment:1.0 payment2:50.0 ] \\nrule: PAYMENT: 1.0, PAYMENT2: 50.0 ==> () [SUPPORTS_OF_LEFT_SIDES: (0.0, 0.125), DELTA_SUPPORTS_OF_LEFT_SIDES: -0.125, SUPPORTS: (0.0, 0.125), DELTA_SUPPORTS: -0.125, CONFIDENCES: (0.0, 1.0), DELTA_CONFIDENCES: -1.0]\\nmax_delta_support: 0.125\\t max_delta_confidence:1.0\\t number of subrules:9\\n', '[ payment2:0.0 payment:200.0 ] \\nrule: PAYMENT: 200.0 ==> PAYMENT2: 0.0 [SUPPORTS_OF_LEFT_SIDES: (0.18181818181818182, 0.125), DELTA_SUPPORTS_OF_LEFT_SIDES: 0.05681818181818182, SUPPORTS: (0.0, 0.125), DELTA_SUPPORTS: -0.125, CONFIDENCES: (0.0, 1.0), DELTA_CONFIDENCES: -1.0]\\nmax_delta_support: 0.125\\t max_delta_confidence:1.0\\t number of subrules:9\\n', '[ payment:5.0 payment2:2.0 ] \\nrule: PAYMENT2: 2.0 ==> PAYMENT: 5.0 [SUPPORTS_OF_LEFT_SIDES: (0.09090909090909091, 0.125), DELTA_SUPPORTS_OF_LEFT_SIDES: -0.03409090909090909, SUPPORTS: (0.0, 0.125), DELTA_SUPPORTS: -0.125, CONFIDENCES: (0.0, 1.0), DELTA_CONFIDENCES: -1.0]\\nmax_delta_support: 0.125\\t max_delta_confidence:1.0\\t number of subrules:9\\n', '[ payment2:5.0 payment:150.0 ] \\nrule: PAYMENT: 150.0, PAYMENT2: 5.0 ==> () [SUPPORTS_OF_LEFT_SIDES: (0.0, 0.125), DELTA_SUPPORTS_OF_LEFT_SIDES: -0.125, SUPPORTS: (0.0, 0.125), DELTA_SUPPORTS: -0.125, CONFIDENCES: (0.0, 1.0), DELTA_CONFIDENCES: -1.0]\\nmax_delta_support: 0.125\\t max_delta_confidence:1.0\\t number of subrules:7\\n', '[ payment:5.0 payment2:200.0 ] \\nrule: PAYMENT: 5.0, PAYMENT2: 200.0 ==> () [SUPPORTS_OF_LEFT_SIDES: (0.0, 0.125), DELTA_SUPPORTS_OF_LEFT_SIDES: -0.125, SUPPORTS: (0.0, 0.125), DELTA_SUPPORTS: -0.125, CONFIDENCES: (0.0, 1.0), DELTA_CONFIDENCES: -1.0]\\nmax_delta_support: 0.125\\t max_delta_confidence:1.0\\t number of subrules:9\\n']\n",
      "Column 'brand, payment2':\n",
      "['[ payment2:5.0 brand:Alpha Co ] \\nrule: BRAND: Alpha Co, PAYMENT2: 5.0 ==> () [SUPPORTS_OF_LEFT_SIDES: (0.18181818181818182, 0.0), DELTA_SUPPORTS_OF_LEFT_SIDES: 0.18181818181818182, SUPPORTS: (0.18181818181818182, 0.0), DELTA_SUPPORTS: 0.18181818181818182, CONFIDENCES: (1.0, 0.0), DELTA_CONFIDENCES: 1.0]\\nmax_delta_support: 0.18181818181818182\\t max_delta_confidence:1.0\\t number of subrules:1\\n', '[ payment2:0.0 brand:Alpha Co ] \\nrule: BRAND: Alpha Co, PAYMENT2: 0.0 ==> () [SUPPORTS_OF_LEFT_SIDES: (0.0, 0.125), DELTA_SUPPORTS_OF_LEFT_SIDES: -0.125, SUPPORTS: (0.0, 0.125), DELTA_SUPPORTS: -0.125, CONFIDENCES: (0.0, 1.0), DELTA_CONFIDENCES: -1.0]\\nmax_delta_support: 0.125\\t max_delta_confidence:1.0\\t number of subrules:2\\n', '[ payment2:15.0 brand:Blue Inc ] \\nrule: PAYMENT2: 15.0 ==> BRAND: Blue Inc [SUPPORTS_OF_LEFT_SIDES: (0.09090909090909091, 0.125), DELTA_SUPPORTS_OF_LEFT_SIDES: -0.03409090909090909, SUPPORTS: (0.0, 0.125), DELTA_SUPPORTS: -0.125, CONFIDENCES: (0.0, 1.0), DELTA_CONFIDENCES: -1.0]\\nmax_delta_support: 0.125\\t max_delta_confidence:1.0\\t number of subrules:9\\n', '[ brand:Jones LLC payment2:50.0 ] \\nrule: PAYMENT2: 50.0 ==> BRAND: Jones LLC [SUPPORTS_OF_LEFT_SIDES: (0.09090909090909091, 0.125), DELTA_SUPPORTS_OF_LEFT_SIDES: -0.03409090909090909, SUPPORTS: (0.0, 0.125), DELTA_SUPPORTS: -0.125, CONFIDENCES: (0.0, 1.0), DELTA_CONFIDENCES: -1.0]\\nmax_delta_support: 0.125\\t max_delta_confidence:1.0\\t number of subrules:2\\n']\n",
      "\n"
     ]
    },
    {
     "data": {
      "image/png": "[encoded data removed]",
      "text/plain": [
       "<Figure size 432x288 with 1 Axes>"
      ]
     },
     "metadata": {
      "needs_background": "light"
     },
     "output_type": "display_data"
    }
   ],
   "source": [
    "detector.evaluate()"
   ]
  },
  {
   "cell_type": "code",
   "execution_count": null,
   "metadata": {},
   "outputs": [],
   "source": []
  },
  {
   "cell_type": "code",
   "execution_count": null,
   "metadata": {},
   "outputs": [],
   "source": []
  }
 ],
 "metadata": {
  "kernelspec": {
   "display_name": "Python 3",
   "language": "python",
   "name": "python3"
  },
  "language_info": {
   "codemirror_mode": {
    "name": "ipython",
    "version": 3
   },
   "file_extension": ".py",
   "mimetype": "text/x-python",
   "name": "python",
   "nbconvert_exporter": "python",
   "pygments_lexer": "ipython3",
   "version": "3.7.3"
  }
 },
 "nbformat": 4,
 "nbformat_minor": 2
}
