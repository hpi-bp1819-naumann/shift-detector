{
 "cells": [
  {
   "cell_type": "code",
   "execution_count": 1,
   "metadata": {
    "ExecuteTime": {
     "end_time": "2019-06-11T08:01:08.431771Z",
     "start_time": "2019-06-11T08:01:07.215546Z"
    }
   },
   "outputs": [],
   "source": [
    "import shift_detector\n",
    "from shift_detector.Detector import Detector\n",
    "from shift_detector.checks.SimpleCheck import SimpleCheck\n",
    "from shift_detector.checks.DistinctionCheck import DistinctionCheck\n",
    "from shift_detector.checks.SorensenDiceCheck import SorensenDiceCheck"
   ]
  },
  {
   "cell_type": "code",
   "execution_count": null,
   "metadata": {
    "ExecuteTime": {
     "end_time": "2019-06-11T08:01:08.465214Z",
     "start_time": "2019-06-11T08:01:08.434075Z"
    },
    "scrolled": true
   },
   "outputs": [],
   "source": [
    "import pandas as pd\n",
    "'''  \n",
    "df1 = './../train_ascii.csv'\n",
    "df1 = pd.read_csv(df1, delimiter=';').sample(100)\n",
    "df2 = './../audits_ascii.csv'\n",
    "df2 = pd.read_csv(df2, delimiter=';')\n",
    "'''\n",
    "sales = {'brand': [\"Jones LLC\", \"Alpha Co\", \"Blue Inc\", \"Blue Inc\", \"Alpha Co\",\n",
    "                   \"Jones LLC\", \"Alpha Co\", \"Blue Inc\", \"Blue Inc\", \"Alpha Co\",\n",
    "                   \"Jones LLC\"] * 10,\n",
    "         'payment': [150., 200., 50., 10., 5., 150., 200., 50., 10., 5., 1.] * 10,\n",
    "         'payment2': [15., 2., 5., 0., 5., 3., 200., 50., 10., 5., 1.] * 10,\n",
    "         'description': [\"A\", \"B\", \"C\", \"D\", \"E\", \"F\", \"G\", \"H\", \"I\", \"J\", \"K\"] * 10}\n",
    "\n",
    "sales2 = {'brand': [\"Blue Inc\", \"Alpha Co\",\n",
    "                   \"Jones LLC\", \"Alpha Co\", \"Blue Inc\", \"Blue Inc\", \"Alpha Co\",\n",
    "                   \"Jones LLC\"] * 10,\n",
    "         'payment': [10, 5, 150, 200, 50, 10, 5, 1] * 10,\n",
    "         'payment2': [15, 2, 5, 0, 5, 3, 200, 50] * 10,\n",
    "         'description': [\"D\", \"E\", \"F\", \"G\", \"H\", \"I\", \"J\", \"K\"] * 10}\n",
    "\n",
    "df1 = pd.DataFrame.from_dict(sales)\n",
    "df2 = pd.DataFrame.from_dict(sales2)\n",
    "# df2 = df1\n",
    "\n",
    "detector = Detector(df1, df2)"
   ]
  },
  {
   "cell_type": "code",
   "execution_count": 3,
   "metadata": {
    "ExecuteTime": {
     "end_time": "2019-06-11T08:01:08.475928Z",
     "start_time": "2019-06-11T08:01:08.469222Z"
    }
   },
   "outputs": [],
   "source": [
    "sc = SimpleCheck()\n",
    "dc = DistinctionCheck(num_epochs=10, relative_threshold=0.2)\n",
    "# sdc = SorensenDiceCheck(n=1)"
   ]
  },
  {
   "cell_type": "code",
   "execution_count": null,
   "metadata": {
    "ExecuteTime": {
     "end_time": "2019-06-11T08:01:10.986072Z",
     "start_time": "2019-06-11T08:01:08.479283Z"
    },
    "scrolled": false
   },
   "outputs": [],
   "source": [
    "detector.run(sc, dc)"
   ]
  },
  {
   "cell_type": "code",
   "execution_count": null,
   "metadata": {
    "ExecuteTime": {
     "end_time": "2019-06-11T08:01:11.384970Z",
     "start_time": "2019-06-11T08:01:10.988086Z"
    },
    "scrolled": true
   },
   "outputs": [],
   "source": [
    "detector.evaluate()"
   ]
  }
 ],
 "metadata": {
  "kernelspec": {
   "display_name": "Python 3",
   "language": "python",
   "name": "python3"
  },
  "language_info": {
   "codemirror_mode": {
    "name": "ipython",
    "version": 3
   },
   "file_extension": ".py",
   "mimetype": "text/x-python",
   "name": "python",
   "nbconvert_exporter": "python",
   "pygments_lexer": "ipython3",
   "version": "3.7.3"
  }
 },
 "nbformat": 4,
 "nbformat_minor": 2
}
