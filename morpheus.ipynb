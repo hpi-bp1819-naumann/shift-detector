{
  "cells": [
    {
      "cell_type": "code",
      "execution_count": null,
      "metadata": {
        "ExecuteTime": {
          "end_time": "2019-06-18T07:54:44.746199Z",
          "start_time": "2019-06-18T07:54:42.554239Z"
        },
        "pycharm": {}
      },
      "outputs": [],
      "source": "import Morpheus\nfrom Morpheus.detector import Detector\nfrom Morpheus.checks.simple_check import SimpleCheck\nfrom Morpheus.checks.distinction_check import DistinctionCheck\nfrom Morpheus.checks.sorensen_dice_check import SorensenDiceCheck\nfrom Morpheus.checks.conditional_probabilities_check import ConditionalProbabilitiesCheck\nfrom Morpheus.checks.embedding_distance_check import EmbeddingDistanceCheck\nfrom Morpheus.checks.word_prediction_check import WordPredictionCheck\nfrom Morpheus.checks.statistical_checks.numerical_statistical_check import NumericalStatisticalCheck\nfrom Morpheus.checks.statistical_checks.categorical_statistical_check import CategoricalStatisticalCheck\nfrom Morpheus.checks.statistical_checks.text_metadata_statistical_check import TextMetadataStatisticalCheck\nfrom Morpheus.checks.lda_check import LdaCheck"
    },
    {
      "cell_type": "code",
      "execution_count": null,
      "metadata": {
        "ExecuteTime": {
          "end_time": "2019-06-18T07:54:44.768296Z",
          "start_time": "2019-06-18T07:54:44.747896Z"
        },
        "scrolled": true,
        "pycharm": {}
      },
      "outputs": [],
      "source": [
        "import pandas as pd\n",
        "\u0027\u0027\u0027\n",
        "df1 \u003d \u0027./../train_ascii.csv\u0027\n",
        "df1 \u003d pd.read_csv(df1, delimiter\u003d\u0027;\u0027).sample(100)\n",
        "df2 \u003d \u0027./../audits_ascii.csv\u0027\n",
        "df2 \u003d pd.read_csv(df2, delimiter\u003d\u0027;\u0027)\n",
        "\u0027\u0027\u0027\n",
        "\n",
        "df \u003d pd.read_csv(\u0027./data/pokedex.csv\u0027)\n",
        "df1 \u003d df.head(300)\n",
        "df2 \u003d df.tail(721-300)\n",
        "\u0027\u0027\u0027\n",
        "sales1 \u003d {\u0027brand\u0027: [\"Jones LLC\", \"Alpha Co\", \"Blue Inc\", \"Blue Inc\", \"Alpha Co\",\n",
        "                   \"Jones LLC\", \"Alpha Co\", \"Blue Inc\", \"Blue Inc\", \"Alpha Co\",\n",
        "                   \"Jones LLC\"] * 10,\n",
        "         \u0027payment\u0027: [150., 200., 50., 10., 5., 150., 200., 50., 10., 5., 1.] * 10,\n",
        "         \u0027payment2\u0027: [15., 2., 5., 0., 5., 3., 200., 50., 10., 5., 1.] * 10,\n",
        "         \u0027description\u0027: [\"A\", \"B\", \"C\", \"D\", \"E\", \"F\", \"G\", \"H\", \"I\", \"J\", \"K\"] * 10}\n",
        "\n",
        "sales2 \u003d {\u0027brand\u0027: [\"Blue Inc\", \"Alpha Co\",\n",
        "                   \"Jones LLC\", \"Alpha Co\", \"Blue Inc\", \"Blue Inc\", \"Alpha Co\",\n",
        "                   \"Jones LLC\"] * 10,\n",
        "         \u0027payment\u0027: [10, 5, 150, 200, 50, 10, 5, 1] * 10,\n",
        "         \u0027payment2\u0027: [15, 2, 5, 0, 5, 3, 200, 50] * 10,\n",
        "         \u0027description\u0027: [\"D\", \"E\", \"F\", \"G\", \"H\", \"I\", \"J\", \"K\"] * 10}\n",
        "\n",
        "df1 \u003d pd.DataFrame.from_dict(sales1)\n",
        "df2 \u003d pd.DataFrame.from_dict(sales2)\n",
        "\u0027\u0027\u0027"
      ]
    },
    {
      "cell_type": "code",
      "execution_count": null,
      "metadata": {
        "pycharm": {}
      },
      "outputs": [],
      "source": [
        "df1"
      ]
    },
    {
      "cell_type": "code",
      "execution_count": null,
      "metadata": {
        "pycharm": {}
      },
      "outputs": [],
      "source": [
        "df2"
      ]
    },
    {
      "cell_type": "code",
      "execution_count": null,
      "metadata": {
        "pycharm": {}
      },
      "outputs": [],
      "source": "from Morpheus.utils.column_management import ColumnType\ncustom_column_types \u003d {\n    \u0027Legendary\u0027: ColumnType.categorical,\n    \u0027Type 1\u0027: ColumnType.categorical,\n    \u0027Type 2\u0027: ColumnType.categorical,\n    \u0027Generation\u0027: ColumnType.categorical\n}\ndetector \u003d Detector(df1, df2, **custom_column_types)"
    },
    {
      "cell_type": "code",
      "execution_count": null,
      "metadata": {
        "ExecuteTime": {
          "end_time": "2019-06-18T07:54:44.773157Z",
          "start_time": "2019-06-18T07:54:44.769888Z"
        },
        "pycharm": {}
      },
      "outputs": [],
      "source": [
        "sc \u003d SimpleCheck()\n",
        "dc \u003d DistinctionCheck(num_epochs\u003d10, relative_threshold\u003d0.2)\n",
        "cp \u003d ConditionalProbabilitiesCheck(min_support\u003d0.01, min_confidence\u003d0.01, rule_limit\u003d10,\n",
        "                                               min_delta_supports\u003d0.01, min_delta_confidences\u003d0.01)\n",
        "sdc \u003d SorensenDiceCheck(n\u003d1)\n",
        "edc \u003d EmbeddingDistanceCheck()\n",
        "# wpc \u003d WordPredictionCheck()\n",
        "nsc \u003d NumericalStatisticalCheck()\n",
        "csc \u003d CategoricalStatisticalCheck()\n",
        "tmc \u003d TextMetadataStatisticalCheck()\n",
        "# lc \u003d LdaCheck()"
      ]
    },
    {
      "cell_type": "code",
      "execution_count": null,
      "metadata": {
        "ExecuteTime": {
          "end_time": "2019-06-18T07:54:46.940760Z",
          "start_time": "2019-06-18T07:54:44.775036Z"
        },
        "scrolled": true,
        "pycharm": {}
      },
      "outputs": [],
      "source": [
        "import logging\n",
        "\n",
        "detector.run(sc, sdc, edc, nsc, csc, tmc)"
      ]
    },
    {
      "cell_type": "code",
      "execution_count": null,
      "metadata": {
        "ExecuteTime": {
          "end_time": "2019-06-18T07:54:47.691249Z",
          "start_time": "2019-06-18T07:54:46.942392Z"
        },
        "scrolled": false,
        "pycharm": {}
      },
      "outputs": [],
      "source": [
        "detector.evaluate()"
      ]
    }
  ],
  "metadata": {
    "kernelspec": {
      "display_name": "Python 3",
      "language": "python",
      "name": "python3"
    },
    "language_info": {
      "codemirror_mode": {
        "name": "ipython",
        "version": 3
      },
      "file_extension": ".py",
      "mimetype": "text/x-python",
      "name": "python",
      "nbconvert_exporter": "python",
      "pygments_lexer": "ipython3",
      "version": "3.7.3"
    },
    "varInspector": {
      "cols": {
        "lenName": 16,
        "lenType": 16,
        "lenVar": 40
      },
      "kernels_config": {
        "python": {
          "delete_cmd_postfix": "",
          "delete_cmd_prefix": "del ",
          "library": "var_list.py",
          "varRefreshCmd": "print(var_dic_list())"
        },
        "r": {
          "delete_cmd_postfix": ") ",
          "delete_cmd_prefix": "rm(",
          "library": "var_list.r",
          "varRefreshCmd": "cat(var_dic_list()) "
        }
      },
      "types_to_exclude": [
        "module",
        "function",
        "builtin_function_or_method",
        "instance",
        "_Feature"
      ],
      "window_display": false
    }
  },
  "nbformat": 4,
  "nbformat_minor": 2
}