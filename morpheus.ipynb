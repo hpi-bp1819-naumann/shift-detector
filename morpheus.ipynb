{
 "cells": [
  {
   "cell_type": "code",
   "execution_count": 15,
   "metadata": {
    "ExecuteTime": {
     "end_time": "2019-06-17T13:59:23.636207Z",
     "start_time": "2019-06-17T13:59:23.631901Z"
    }
   },
   "outputs": [],
   "source": [
    "import shift_detector\n",
    "from shift_detector.detector import Detector\n",
    "from shift_detector.checks.simple_check import SimpleCheck\n",
    "from shift_detector.checks.distinction_check import DistinctionCheck\n",
    "from shift_detector.checks.sorensen_dice_check import SorensenDiceCheck\n",
    "from shift_detector.checks.conditional_probabilities_check import ConditionalProbabilitiesCheck"
   ]
  },
  {
   "cell_type": "code",
   "execution_count": 16,
   "metadata": {
    "ExecuteTime": {
     "end_time": "2019-06-17T13:59:24.178450Z",
     "start_time": "2019-06-17T13:59:24.155126Z"
    },
    "scrolled": true
   },
   "outputs": [
    {
     "name": "stderr",
     "output_type": "stream",
     "text": [
      "2019-06-17 15:59:24,165 [INFO]  Detected numerical columns: payment, payment2\n",
      "2019-06-17 15:59:24,168 [INFO]  Detected categorical columns: brand\n",
      "2019-06-17 15:59:24,170 [INFO]  Detected text columns: description\n",
      "2019-06-17 15:59:24,176 [INFO]  Used columns: brand, payment, payment2, description\n"
     ]
    }
   ],
   "source": [
    "import pandas as pd\n",
    "'''  \n",
    "df1 = './../train_ascii.csv'\n",
    "df1 = pd.read_csv(df1, delimiter=';').sample(100)\n",
    "df2 = './../audits_ascii.csv'\n",
    "df2 = pd.read_csv(df2, delimiter=';')\n",
    "'''\n",
    "sales = {'brand': [\"Jones LLC\", \"Alpha Co\", \"Blue Inc\", \"Blue Inc\", \"Alpha Co\",\n",
    "                   \"Jones LLC\", \"Alpha Co\", \"Blue Inc\", \"Blue Inc\", \"Alpha Co\",\n",
    "                   \"Jones LLC\"] * 10,\n",
    "         'payment': [150., 200., 50., 10., 5., 150., 200., 50., 10., 5., 1.] * 10,\n",
    "         'payment2': [15., 2., 5., 0., 5., 3., 200., 50., 10., 5., 1.] * 10,\n",
    "         'description': [\"A\", \"B\", \"C\", \"D\", \"E\", \"F\", \"G\", \"H\", \"I\", \"J\", \"K\"] * 10}\n",
    "\n",
    "sales2 = {'brand': [\"Blue Inc\", \"Alpha Co\",\n",
    "                   \"Jones LLC\", \"Alpha Co\", \"Blue Inc\", \"Blue Inc\", \"Alpha Co\",\n",
    "                   \"Jones LLC\"] * 10,\n",
    "         'payment': [10, 5, 150, 200, 50, 10, 5, 1] * 10,\n",
    "         'payment2': [15, 2, 5, 0, 5, 3, 200, 50] * 10,\n",
    "         'description': [\"D\", \"E\", \"F\", \"G\", \"H\", \"I\", \"J\", \"K\"] * 10}\n",
    "\n",
    "df1 = pd.DataFrame.from_dict(sales)\n",
    "df2 = pd.DataFrame.from_dict(sales2)\n",
    "\n",
    "detector = Detector(df1, df2)"
   ]
  },
  {
   "cell_type": "code",
   "execution_count": 17,
   "metadata": {
    "ExecuteTime": {
     "end_time": "2019-06-17T13:59:24.596042Z",
     "start_time": "2019-06-17T13:59:24.592961Z"
    }
   },
   "outputs": [],
   "source": [
    "sc = SimpleCheck()\n",
    "dc = DistinctionCheck(num_epochs=10, relative_threshold=0.2)\n",
    "cp = ConditionalProbabilitiesCheck(min_support=0.01, min_confidence=0.01, rule_limit=10,\n",
    "                                               min_delta_supports=0.01, min_delta_confidences=0.01)\n",
    "# sdc = SorensenDiceCheck(n=1)"
   ]
  },
  {
   "cell_type": "code",
   "execution_count": 18,
   "metadata": {
    "ExecuteTime": {
     "end_time": "2019-06-17T13:59:25.165228Z",
     "start_time": "2019-06-17T13:59:25.137081Z"
    },
    "scrolled": false
   },
   "outputs": [
    {
     "name": "stderr",
     "output_type": "stream",
     "text": [
      "2019-06-17 15:59:25,137 [INFO]  Execute Simple Check\n",
      "2019-06-17 15:59:25,138 [INFO]  Execute new Precalculation\n"
     ]
    }
   ],
   "source": [
    "detector.run(sc)"
   ]
  },
  {
   "cell_type": "code",
   "execution_count": 19,
   "metadata": {
    "ExecuteTime": {
     "end_time": "2019-06-17T13:59:26.797609Z",
     "start_time": "2019-06-17T13:59:26.176411Z"
    },
    "scrolled": true
   },
   "outputs": [
    {
     "name": "stdout",
     "output_type": "stream",
     "text": [
      "OVERVIEW\n"
     ]
    },
    {
     "data": {
      "text/html": [
       "<div>\n",
       "<style scoped>\n",
       "    .dataframe tbody tr th:only-of-type {\n",
       "        vertical-align: middle;\n",
       "    }\n",
       "\n",
       "    .dataframe tbody tr th {\n",
       "        vertical-align: top;\n",
       "    }\n",
       "\n",
       "    .dataframe thead th {\n",
       "        text-align: right;\n",
       "    }\n",
       "</style>\n",
       "<table border=\"1\" class=\"dataframe\">\n",
       "  <thead>\n",
       "    <tr style=\"text-align: right;\">\n",
       "      <th></th>\n",
       "      <th>Column</th>\n",
       "      <th># Checks Failed</th>\n",
       "      <th># Checks Executed</th>\n",
       "    </tr>\n",
       "  </thead>\n",
       "  <tbody>\n",
       "    <tr>\n",
       "      <th>0</th>\n",
       "      <td>payment2</td>\n",
       "      <td>1</td>\n",
       "      <td>1</td>\n",
       "    </tr>\n",
       "    <tr>\n",
       "      <th>1</th>\n",
       "      <td>payment</td>\n",
       "      <td>1</td>\n",
       "      <td>1</td>\n",
       "    </tr>\n",
       "    <tr>\n",
       "      <th>2</th>\n",
       "      <td>brand</td>\n",
       "      <td>0</td>\n",
       "      <td>1</td>\n",
       "    </tr>\n",
       "  </tbody>\n",
       "</table>\n",
       "</div>"
      ],
      "text/plain": [
       "     Column  # Checks Failed  # Checks Executed\n",
       "0  payment2                1                  1\n",
       "1   payment                1                  1\n",
       "2     brand                0                  1"
      ]
     },
     "metadata": {},
     "output_type": "display_data"
    },
    {
     "name": "stdout",
     "output_type": "stream",
     "text": [
      "DETAILS\n",
      "Simple Check\n",
      "Examined Columns: ['payment2', 'payment', 'brand']\n",
      "Shifted Columns: ['payment2', 'payment']\n",
      "\n",
      "Column 'payment':\n",
      "Metric: mean with Diff: -0.29 %\n",
      "Metric: median with Diff: -0.8 %\n",
      "Metric: quartile_3 with Diff: -0.5 %\n",
      "Metric: completeness with Diff: -0.27 %\n",
      "\n",
      "Column 'payment2':\n",
      "Metric: mean with Diff: +0.3 %\n",
      "Metric: quartile_1 with Diff: +0.38 %\n",
      "Metric: quartile_3 with Diff: +0.58 %\n",
      "Metric: num_distinct with Diff: -0.22 %\n",
      "Metric: completeness with Diff: -0.27 %\n",
      "Metric: std with Diff: +0.14 %\n",
      "\n",
      "\n"
     ]
    },
    {
     "data": {
      "image/png": "[encoded data removed]",
      "text/plain": [
       "<Figure size 1440x504 with 2 Axes>"
      ]
     },
     "metadata": {
      "needs_background": "light"
     },
     "output_type": "display_data"
    },
    {
     "name": "stderr",
     "output_type": "stream",
     "text": [
      "/usr/local/lib/python3.7/site-packages/matplotlib/figure.py:445: UserWarning: Matplotlib is currently using module://ipykernel.pylab.backend_inline, which is a non-GUI backend, so cannot show the figure.\n",
      "  % get_backend())\n"
     ]
    },
    {
     "data": {
      "image/png": "[encoded data removed]",
      "text/plain": [
       "<Figure size 1440x504 with 1 Axes>"
      ]
     },
     "metadata": {
      "needs_background": "light"
     },
     "output_type": "display_data"
    }
   ],
   "source": [
    "detector.evaluate()"
   ]
  },
  {
   "cell_type": "code",
   "execution_count": null,
   "metadata": {},
   "outputs": [],
   "source": []
  },
  {
   "cell_type": "code",
   "execution_count": null,
   "metadata": {},
   "outputs": [],
   "source": []
  }
 ],
 "metadata": {
  "kernelspec": {
   "display_name": "Python 3",
   "language": "python",
   "name": "python3"
  },
  "language_info": {
   "codemirror_mode": {
    "name": "ipython",
    "version": 3
   },
   "file_extension": ".py",
   "mimetype": "text/x-python",
   "name": "python",
   "nbconvert_exporter": "python",
   "pygments_lexer": "ipython3",
   "version": "3.7.2"
  },
  "varInspector": {
   "cols": {
    "lenName": 16,
    "lenType": 16,
    "lenVar": 40
   },
   "kernels_config": {
    "python": {
     "delete_cmd_postfix": "",
     "delete_cmd_prefix": "del ",
     "library": "var_list.py",
     "varRefreshCmd": "print(var_dic_list())"
    },
    "r": {
     "delete_cmd_postfix": ") ",
     "delete_cmd_prefix": "rm(",
     "library": "var_list.r",
     "varRefreshCmd": "cat(var_dic_list()) "
    }
   },
   "types_to_exclude": [
    "module",
    "function",
    "builtin_function_or_method",
    "instance",
    "_Feature"
   ],
   "window_display": false
  }
 },
 "nbformat": 4,
 "nbformat_minor": 2
}
