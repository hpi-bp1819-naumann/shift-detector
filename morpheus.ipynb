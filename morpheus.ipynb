{
 "cells": [
  {
   "cell_type": "code",
   "execution_count": null,
   "metadata": {
    "ExecuteTime": {
     "end_time": "2019-06-25T12:51:21.124106Z",
     "start_time": "2019-06-25T12:51:18.578487Z"
    }
   },
   "outputs": [],
   "source": [
    "import shift_detector\n",
    "from shift_detector.detector import Detector\n",
    "from shift_detector.checks.dq_metrics_check import DQMetricsCheck\n",
    "from shift_detector.checks.distinction_check import DistinctionCheck\n",
    "from shift_detector.checks.sorensen_dice_check import SorensenDiceCheck\n",
    "from shift_detector.checks.conditional_probabilities_check import ConditionalProbabilitiesCheck\n",
    "from shift_detector.checks.embedding_distance_check import EmbeddingDistanceCheck\n",
    "from shift_detector.checks.word_prediction_check import WordPredictionCheck\n",
    "from shift_detector.checks.statistical_checks.numerical_statistical_check import NumericalStatisticalCheck\n",
    "from shift_detector.checks.statistical_checks.categorical_statistical_check import CategoricalStatisticalCheck\n",
    "from shift_detector.checks.statistical_checks.text_metadata_statistical_check import TextMetadataStatisticalCheck\n",
    "from shift_detector.checks.lda_check import LdaCheck"
   ]
  },
  {
   "cell_type": "code",
   "execution_count": null,
   "metadata": {
    "ExecuteTime": {
     "end_time": "2019-06-25T12:51:21.136382Z",
     "start_time": "2019-06-25T12:51:21.126039Z"
    },
    "scrolled": true
   },
   "outputs": [],
   "source": [
    "import pandas as pd\n",
    "df = pd.read_csv('./data/pokedex.csv')\n",
    "df1 = df.head(300)\n",
    "df2 = df.tail(721-300)"
   ]
  },
  {
   "cell_type": "code",
   "execution_count": null,
   "metadata": {
    "ExecuteTime": {
     "end_time": "2019-06-25T12:51:21.173977Z",
     "start_time": "2019-06-25T12:51:21.138268Z"
    }
   },
   "outputs": [],
   "source": [
    "df1"
   ]
  },
  {
   "cell_type": "code",
   "execution_count": null,
   "metadata": {
    "ExecuteTime": {
     "end_time": "2019-06-25T12:51:21.204660Z",
     "start_time": "2019-06-25T12:51:21.175656Z"
    }
   },
   "outputs": [],
   "source": [
    "df2"
   ]
  },
  {
   "cell_type": "code",
   "execution_count": null,
   "metadata": {
    "ExecuteTime": {
     "end_time": "2019-06-25T12:51:21.235480Z",
     "start_time": "2019-06-25T12:51:21.205848Z"
    }
   },
   "outputs": [],
   "source": [
    "from shift_detector.utils.column_management import ColumnType\n",
    "custom_column_types = {\n",
    "    'Legendary': ColumnType.categorical,\n",
    "    'Type 1': ColumnType.categorical,\n",
    "    'Type 2': ColumnType.categorical,\n",
    "    'Generation': ColumnType.categorical\n",
    "}\n",
    "detector = Detector(df1, df2, **custom_column_types)"
   ]
  },
  {
   "cell_type": "code",
   "execution_count": null,
   "metadata": {
    "ExecuteTime": {
     "end_time": "2019-06-25T12:51:21.239542Z",
     "start_time": "2019-06-25T12:51:21.236613Z"
    }
   },
   "outputs": [],
   "source": [
    "dc = DistinctionCheck(num_epochs=10, relative_threshold=0.2)\n",
    "cp = ConditionalProbabilitiesCheck(min_support=0.01, min_confidence=0.01, rule_limit=10,\n",
    "                                               min_delta_supports=0.01, min_delta_confidences=0.01)\n",
    "sdc = SorensenDiceCheck(n=1)\n",
    "edc = EmbeddingDistanceCheck()\n",
    "nsc = NumericalStatisticalCheck()\n",
    "csc = CategoricalStatisticalCheck()\n",
    "tmc = TextMetadataStatisticalCheck()\n",
    "dqm = DQMetricsCheck()"
   ]
  },
  {
   "cell_type": "code",
   "execution_count": null,
   "metadata": {
    "ExecuteTime": {
     "end_time": "2019-06-25T12:51:21.555546Z",
     "start_time": "2019-06-25T12:51:21.240809Z"
    },
    "scrolled": true
   },
   "outputs": [],
   "source": [
    "detector.run(dqm)"
   ]
  },
  {
   "cell_type": "code",
   "execution_count": null,
   "metadata": {
    "ExecuteTime": {
     "end_time": "2019-06-25T12:51:22.853588Z",
     "start_time": "2019-06-25T12:51:21.558687Z"
    },
    "scrolled": false
   },
   "outputs": [],
   "source": [
    "detector.evaluate()"
   ]
  },
  {
   "cell_type": "code",
   "execution_count": null,
   "metadata": {
    "ExecuteTime": {
     "end_time": "2019-06-25T12:10:15.067775Z",
     "start_time": "2019-06-25T12:10:15.064284Z"
    }
   },
   "outputs": [],
   "source": []
  }
 ],
 "metadata": {
  "kernelspec": {
   "display_name": "Python 3",
   "language": "python",
   "name": "python3"
  },
  "language_info": {
   "codemirror_mode": {
    "name": "ipython",
    "version": 3
   },
   "file_extension": ".py",
   "mimetype": "text/x-python",
   "name": "python",
   "nbconvert_exporter": "python",
   "pygments_lexer": "ipython3",
   "version": "3.7.3"
  },
  "varInspector": {
   "cols": {
    "lenName": 16,
    "lenType": 16,
    "lenVar": 40
   },
   "kernels_config": {
    "python": {
     "delete_cmd_postfix": "",
     "delete_cmd_prefix": "del ",
     "library": "var_list.py",
     "varRefreshCmd": "print(var_dic_list())"
    },
    "r": {
     "delete_cmd_postfix": ") ",
     "delete_cmd_prefix": "rm(",
     "library": "var_list.r",
     "varRefreshCmd": "cat(var_dic_list()) "
    }
   },
   "types_to_exclude": [
    "module",
    "function",
    "builtin_function_or_method",
    "instance",
    "_Feature"
   ],
   "window_display": false
  }
 },
 "nbformat": 4,
 "nbformat_minor": 2
}
